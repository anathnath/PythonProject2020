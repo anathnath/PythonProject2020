{
  "nbformat": 4,
  "nbformat_minor": 0,
  "metadata": {
    "colab": {
      "name": "covid19DataAnalysis3rdSeptember2020.ipynb",
      "provenance": [],
      "private_outputs": true,
      "collapsed_sections": [],
      "include_colab_link": true
    },
    "kernelspec": {
      "name": "python3",
      "display_name": "Python 3"
    }
  },
  "cells": [
    {
      "cell_type": "markdown",
      "metadata": {
        "id": "view-in-github",
        "colab_type": "text"
      },
      "source": [
        "<a href=\"https://colab.research.google.com/github/anathnath/PythonProject2020/blob/master/covid19DataAnalysis3rdSeptember2020.ipynb\" target=\"_parent\"><img src=\"https://colab.research.google.com/assets/colab-badge.svg\" alt=\"Open In Colab\"/></a>"
      ]
    },
    {
      "cell_type": "code",
      "metadata": {
        "id": "4mshXeUUuMYL",
        "colab_type": "code",
        "colab": {}
      },
      "source": [
        "import pandas as pd\n",
        "import numpy as np\n",
        "import matplotlib.pyplot as plt\n",
        "import seaborn as sns\n",
        "import geopandas as gpd\n",
        "%matplotlib inline\n",
        "import plotly.graph_objects as go\n",
        "import plotly.express as px\n",
        "from shapely.geometry import  Point, Polygon\n",
        "import pandas.util.testing as tm"
      ],
      "execution_count": null,
      "outputs": []
    },
    {
      "cell_type": "code",
      "metadata": {
        "id": "rapFcn_EhCSm",
        "colab_type": "code",
        "colab": {}
      },
      "source": [
        "!pip install geopandas"
      ],
      "execution_count": null,
      "outputs": []
    },
    {
      "cell_type": "code",
      "metadata": {
        "id": "gc3OyVoPTnv2",
        "colab_type": "code",
        "colab": {}
      },
      "source": [
        "confirmedlink = \"https://raw.githubusercontent.com/CSSEGISandData/COVID-19/master/csse_covid_19_data/csse_covid_19_time_series/time_series_covid19_confirmed_global.csv\"\n",
        "deathlink = \"https://raw.githubusercontent.com/CSSEGISandData/COVID-19/master/csse_covid_19_data/csse_covid_19_time_series/time_series_covid19_deaths_global.csv\"\n",
        "recoveredlink = \"https://raw.githubusercontent.com/CSSEGISandData/COVID-19/master/csse_covid_19_data/csse_covid_19_time_series/time_series_covid19_recovered_global.csv\"\n",
        "countrylink = \"https://raw.githubusercontent.com/CSSEGISandData/COVID-19/web-data/data/cases_country.csv\"\n"
      ],
      "execution_count": null,
      "outputs": []
    },
    {
      "cell_type": "code",
      "metadata": {
        "id": "fouTo5eTix0P",
        "colab_type": "code",
        "colab": {}
      },
      "source": [
        "confirmed_df = pd.read_csv(confirmedlink)\n",
        "print(confirmed_df.shape)\n",
        "deaths_df = pd.read_csv(deathlink)\n",
        "print(deaths_df.shape)\n",
        "recovered_df = pd.read_csv(recoveredlink)\n",
        "print(recovered_df.shape)\n",
        "cases_country_df = pd.read_csv(countrylink)\n",
        "print(cases_country_df.shape)"
      ],
      "execution_count": null,
      "outputs": []
    },
    {
      "cell_type": "code",
      "metadata": {
        "id": "_TaUSI11isA6",
        "colab_type": "code",
        "colab": {}
      },
      "source": [
        "confirmed_df = confirmed_df.replace(np.nan, '', regex=True)\n",
        "deaths_df = deaths_df.replace(np.nan, '', regex=True)\n",
        "recovered_df = recovered_df.replace(np.nan, '', regex=True)\n",
        "cases_country_df = cases_country_df.replace(np.nan, '', regex=True)"
      ],
      "execution_count": null,
      "outputs": []
    },
    {
      "cell_type": "code",
      "metadata": {
        "id": "COMl730_ivHb",
        "colab_type": "code",
        "colab": {}
      },
      "source": [
        "global_data = cases_country_df.copy().drop(['Lat','Long_','Country_Region','Last_Update'],axis =1)\n",
        "global_summary = pd.DataFrame(global_data.sum()).transpose()"
      ],
      "execution_count": null,
      "outputs": []
    },
    {
      "cell_type": "code",
      "metadata": {
        "id": "h69jnVoVToGV",
        "colab_type": "code",
        "colab": {}
      },
      "source": [
        "confirmed_ts = confirmed_df.copy().drop(['Lat','Long','Country/Region','Province/State'],axis =1)\n",
        "confirmed_ts_summary = confirmed_ts.sum()"
      ],
      "execution_count": null,
      "outputs": []
    },
    {
      "cell_type": "code",
      "metadata": {
        "id": "shrbQZsTjbUG",
        "colab_type": "code",
        "colab": {}
      },
      "source": [
        "fig_1 = go.Figure(data=go.Scatter(x=confirmed_ts_summary.index, y = confirmed_ts_summary.values, mode='lines+markers'))\n",
        "fig_1.update_layout(title='Total Coronavirus Confirmed Cases (Globally)',\n",
        "                  yaxis_title='Confirmed Cases', xaxis_tickangle = 315 )\n",
        "fig_1.show()"
      ],
      "execution_count": null,
      "outputs": []
    },
    {
      "cell_type": "code",
      "metadata": {
        "id": "jJeGvsg9j3dh",
        "colab_type": "code",
        "colab": {}
      },
      "source": [
        "confirmed_ts_summary"
      ],
      "execution_count": null,
      "outputs": []
    },
    {
      "cell_type": "code",
      "metadata": {
        "id": "iudupy6wjh1N",
        "colab_type": "code",
        "colab": {}
      },
      "source": [
        "# Initializing Color Array to be used across the analysis\n",
        "color_arr = px.colors.qualitative.Dark24"
      ],
      "execution_count": null,
      "outputs": []
    },
    {
      "cell_type": "code",
      "metadata": {
        "id": "FBsrCdMNkOfm",
        "colab_type": "code",
        "colab": {}
      },
      "source": [
        "def draw_plot(ts_array, ts_label, title, colors, mode_size, line_size, x_axis_title , y_axis_title, tickangle = 0, yaxis_type = \"\", additional_annotations=[]):\n",
        "    # initialize figure\n",
        "    fig = go.Figure()\n",
        "    # add all traces\n",
        "    for index, ts in enumerate(ts_array):\n",
        "        fig.add_trace(go.Scatter(x=ts.index,\n",
        "                                 y = ts.values,\n",
        "                                 name = ts_label[index],\n",
        "                                 line=dict(color=colors[index], width=line_size[index]),connectgaps=True,))\n",
        "    # base x_axis prop.\n",
        "    x_axis_dict = dict(showline=True, \n",
        "                       showgrid=True, \n",
        "                       showticklabels=True, \n",
        "                       linecolor='rgb(204, 204, 204)', \n",
        "                       linewidth=2,\n",
        "                       ticks='outside',\n",
        "                       tickfont=dict(family='Arial',size=12,color='rgb(82, 82, 82)',))\n",
        "    # setting x_axis params\n",
        "    if x_axis_title:\n",
        "        x_axis_dict['title'] = x_axis_title\n",
        "    \n",
        "    if tickangle > 0:\n",
        "        x_axis_dict['tickangle'] = tickangle\n",
        "    \n",
        "    # base y_axis prop.\n",
        "    y_axis_dict = dict(showline = True,\n",
        "                       showgrid = True,\n",
        "                       showticklabels=True,\n",
        "                       linecolor='rgb(204, 204, 204)',\n",
        "                       linewidth=2,)\n",
        "    # setting y_axis params\n",
        "    if yaxis_type != \"\":\n",
        "        y_axis_dict['type'] = yaxis_type\n",
        "    \n",
        "    if y_axis_title:\n",
        "        y_axis_dict['title'] = y_axis_title\n",
        "        \n",
        "#     # uncomment legend if you want to move the legend around\n",
        "#     legend= dict(x=1,\n",
        "#                  y=1,\n",
        "#                  traceorder=\"normal\",\n",
        "#                  font=dict(family=\"sans-serif\",size=12,color=\"black\"),\n",
        "#                  bgcolor=\"LightSteelBlue\",\n",
        "#                  bordercolor=\"Black\",\n",
        "#                  borderwidth=2)\n",
        "\n",
        "#updating the layout\n",
        "    fig.update_layout(xaxis = x_axis_dict,\n",
        "                      yaxis = y_axis_dict,\n",
        "                      autosize=True,\n",
        "                      margin=dict(autoexpand=False,l=100,r=20,t=110,),\n",
        "                      showlegend=True,\n",
        "#                       legend = legend\n",
        "                     )\n",
        "\n",
        "    # base annotations for any graph\n",
        "    annotations = []\n",
        "    # Title\n",
        "    annotations.append(dict(xref='paper', yref='paper', x=0.0, y=1.05, xanchor='left', yanchor='bottom',\n",
        "                                  text=title,\n",
        "                                  font=dict(family='Arial',size=16,color='rgb(37,37,37)'),showarrow=False))\n",
        "    # adding annotations in params\n",
        "    if len(additional_annotations) > 0:\n",
        "        annotations.append(additional_annotations)\n",
        "    \n",
        "    #updating the layout\n",
        "    fig.update_layout(annotations=annotations)\n",
        "\n",
        "    return fig"
      ],
      "execution_count": null,
      "outputs": []
    },
    {
      "cell_type": "code",
      "metadata": {
        "id": "KmO3fYKHkXE_",
        "colab_type": "code",
        "colab": {}
      },
      "source": [
        "confimed_agg_ts = confirmed_df.copy().drop(['Lat','Long','Country/Region','Province/State'],axis =1).sum()\n",
        "death_agg_ts = deaths_df.copy().drop(['Lat','Long','Country/Region','Province/State'],axis =1).sum()\n",
        "recovered_agg_ts = recovered_df.copy().drop(['Lat','Long','Country/Region','Province/State'],axis =1).sum()\n",
        "\n",
        "#There is no timeseries data for Active cases, therefore it needs to be engineered separately\n",
        "active_agg_ts = pd.Series(\n",
        "    data=np.array(\n",
        "        [x1 - x2 - x3  for (x1, x2, x3) in zip(confimed_agg_ts.values,death_agg_ts.values, recovered_agg_ts.values)]),\n",
        "    index= confimed_agg_ts.index)\n",
        "\n",
        "#Plot and add traces for all the aggregated timeseries"
      ],
      "execution_count": null,
      "outputs": []
    },
    {
      "cell_type": "code",
      "metadata": {
        "id": "qoNvbhrnki2r",
        "colab_type": "code",
        "colab": {}
      },
      "source": [
        "ts_array = [confimed_agg_ts, active_agg_ts, recovered_agg_ts, death_agg_ts]\n",
        "labels = ['Confirmed', 'Active', 'Recovered', 'Deaths']\n",
        "colors = [color_arr[5],  color_arr[0], color_arr[2], color_arr[3]]\n",
        "mode_size = [8, 8, 12, 8]\n",
        "line_size = [2, 2, 4, 2]\n",
        "\n",
        "# Calling the draw_plot function defined above\n",
        "fig_2 = draw_plot(ts_array = ts_array, \n",
        "                  ts_label = labels , \n",
        "                  title = \"Covid-19 Case Status(22nd Jan to 2nd September 2020)\",\n",
        "                  colors = colors, mode_size = mode_size, \n",
        "                  line_size = line_size , \n",
        "                  x_axis_title = \"Date\" , \n",
        "                  y_axis_title = \"Case Count\", \n",
        "                  tickangle = 90, \n",
        "                  yaxis_type = \"\", additional_annotations=[])\n",
        "fig_2.show()\n"
      ],
      "execution_count": null,
      "outputs": []
    },
    {
      "cell_type": "code",
      "metadata": {
        "id": "SPqNhTcZk5Mz",
        "colab_type": "code",
        "colab": {}
      },
      "source": [
        "confirmed_India_ts = confirmed_df[confirmed_df['Country/Region']==\"India\"]\n",
        "confirmed_India_ts = confirmed_India_ts.drop(\n",
        "    ['Lat','Long','Country/Region','Province/State'],axis =1).reset_index(drop=True).sum()\n",
        "\n",
        "deaths_India_ts = deaths_df[deaths_df['Country/Region']==\"India\"]\n",
        "deaths_India_ts = deaths_India_ts.drop(\n",
        "    ['Lat','Long','Country/Region','Province/State'],axis =1).reset_index(drop=True).sum()\n",
        "\n",
        "recovered_India_ts = recovered_df[recovered_df['Country/Region']==\"India\"]\n",
        "recovered_India_ts = recovered_India_ts.drop(\n",
        "    ['Lat','Long','Country/Region','Province/State'],axis =1).reset_index(drop=True).sum()\n",
        "\n",
        "active_India_ts = pd.Series(\n",
        "    data=np.array(\n",
        "        [x1 - x2 - x3  for (x1, x2, x3) in zip(\n",
        "            confirmed_India_ts.values,deaths_India_ts.values, recovered_India_ts.values)\n",
        "        ] \n",
        "    ), \n",
        "    index= confirmed_India_ts.index\n",
        ")"
      ],
      "execution_count": null,
      "outputs": []
    },
    {
      "cell_type": "code",
      "metadata": {
        "id": "Xd9uEJ8OlP5L",
        "colab_type": "code",
        "colab": {}
      },
      "source": [
        "confirmed_India_ts"
      ],
      "execution_count": null,
      "outputs": []
    },
    {
      "cell_type": "markdown",
      "metadata": {
        "id": "Imlo4dGVjps-",
        "colab_type": "text"
      },
      "source": [
        "#Different Cases"
      ]
    },
    {
      "cell_type": "markdown",
      "metadata": {
        "id": "H6PVzLR3jn0g",
        "colab_type": "text"
      },
      "source": [
        ""
      ]
    },
    {
      "cell_type": "code",
      "metadata": {
        "id": "NH3Cu7xyTRqQ",
        "colab_type": "code",
        "colab": {}
      },
      "source": [
        "confirmed=pd.read_csv(confirmedlink)\n",
        "recovered=pd.read_csv(recoveredlink)\n",
        "death=pd.read_csv(deathlink)\n",
        "countrywise=pd.read_csv(countrylink)"
      ],
      "execution_count": null,
      "outputs": []
    },
    {
      "cell_type": "code",
      "metadata": {
        "id": "fy3_LXvN7PW4",
        "colab_type": "code",
        "colab": {}
      },
      "source": [
        "confirmed = confirmed.replace(np.nan, '', regex=True)\n",
        "death = death.replace(np.nan, '', regex=True)\n",
        "recovered = recovered.replace(np.nan, '', regex=True)\n",
        "countrywise = countrywise.replace(np.nan, '', regex=True)\n",
        "countrywise = countrywise.replace(np.NaN, '', regex=True)"
      ],
      "execution_count": null,
      "outputs": []
    },
    {
      "cell_type": "code",
      "metadata": {
        "id": "-kZY3FENTWIn",
        "colab_type": "code",
        "colab": {}
      },
      "source": [
        "confirmed=confirmed.drop(['Province/State','Lat','Long'], axis=1)\n",
        "death=death.drop(['Province/State','Lat','Long'], axis=1)\n",
        "recovered=recovered.drop(['Province/State','Lat','Long'], axis=1)"
      ],
      "execution_count": null,
      "outputs": []
    },
    {
      "cell_type": "code",
      "metadata": {
        "id": "FNeJUpCFvcQz",
        "colab_type": "code",
        "colab": {}
      },
      "source": [
        "confirmed=confirmed.groupby(confirmed['Country/Region']).sum()\n",
        "death=death.groupby(death['Country/Region']).sum()\n",
        "recovered=recovered.groupby(recovered['Country/Region']).sum()\n"
      ],
      "execution_count": null,
      "outputs": []
    },
    {
      "cell_type": "code",
      "metadata": {
        "id": "pQYHIcWHxL2w",
        "colab_type": "code",
        "colab": {}
      },
      "source": [
        "confirmed=confirmed.T\n",
        "death=death.T\n",
        "recovered=recovered.T\n"
      ],
      "execution_count": null,
      "outputs": []
    },
    {
      "cell_type": "markdown",
      "metadata": {
        "id": "TSFUgXnTggFT",
        "colab_type": "text"
      },
      "source": [
        ""
      ]
    },
    {
      "cell_type": "code",
      "metadata": {
        "id": "9BLAPN9pxagA",
        "colab_type": "code",
        "colab": {}
      },
      "source": [
        "new_cases=confirmed.copy()\n",
        "\n",
        "for day in range(1,len(confirmed)):\n",
        "    new_cases.iloc[day]=confirmed.iloc[day]-confirmed.iloc[day-1]\n",
        "    \n",
        "growth_rate=confirmed.copy()\n",
        "for day in range(1,len(confirmed)):\n",
        "    growth_rate.iloc[day]=(new_cases.iloc[day]/confirmed.iloc[day-1])*100\n",
        "    \n",
        "active_cases=confirmed.copy()\n",
        "active_rate=confirmed.copy()\n",
        "\n",
        "for day in range(0,len(confirmed)):\n",
        "    active_cases.iloc[day]=confirmed.iloc[day]-recovered.iloc[day]\n",
        "    active_rate.iloc[day]=((confirmed.iloc[day]-recovered.iloc[day]-death.iloc[day])/active_cases.iloc[day-1])*100\n",
        "    \n",
        "overall_growth_rate=confirmed.copy()\n",
        "for day in range(1,len(confirmed)):\n",
        "    overall_growth_rate.iloc[day]=((active_cases.iloc[day]-active_cases.iloc[day-1])/\n",
        "                                  ( active_cases.iloc[day-1]))*100\n",
        "                                \n",
        "death_rate=confirmed.copy()\n",
        "for day in range(1,len(confirmed)):\n",
        "    death_rate.iloc[day]=100*(death.iloc[day]-death.iloc[day-1])/death.iloc[day-1]\n",
        " \n",
        "\n",
        "death_rate=confirmed.copy()\n",
        "conf_rollavg=confirmed.copy()\n",
        "recov_rollavg=confirmed.copy()\n",
        "death_rollavg=confirmed.copy()\n",
        "active_rollavg=confirmed.copy()\n",
        "aceleration_conf=confirmed.copy()\n",
        "\n",
        "for day in range(0,len(confirmed)):\n",
        "    death_rate.iloc[day]=(death.iloc[day]/confirmed.iloc[day])*100\n",
        "    conf_rollavg.iloc[day]=confirmed.iloc[day]/day\n",
        "    recov_rollavg.iloc[day]=recovered.iloc[day]/day\n",
        "    death_rollavg.iloc[day]=death.iloc[day]/day\n",
        "    active_rollavg.iloc[day]=confirmed.iloc[day]/day-recovered.iloc[day]/day-death.iloc[day]/day\n",
        "    \n",
        "\n",
        "    \n",
        "# Visualisation\n",
        "countries=['Italy','Sweden','India','US','France','Spain']\n"
      ],
      "execution_count": null,
      "outputs": []
    },
    {
      "cell_type": "code",
      "metadata": {
        "id": "JPH_7W3u_ECM",
        "colab_type": "code",
        "colab": {}
      },
      "source": [
        "recovery_rate=confirmed.copy()                               \n",
        "for day in range(1,len(confirmed)):\n",
        "    recovery_rate.iloc[day]=((confirmed.iloc[day]-active_cases.iloc[day]-death.iloc[day])/\n",
        "                                  ( confirmed.iloc[day]))*100"
      ],
      "execution_count": null,
      "outputs": []
    },
    {
      "cell_type": "code",
      "metadata": {
        "id": "bZsvlo_3rFA9",
        "colab_type": "code",
        "colab": {}
      },
      "source": [
        "death_rate_ts=death_rate.India\n",
        "growth_rate_ts=growth_rate.India\n",
        "active_rate_ts=active_rate.India\n",
        "recovery_rate_ts=recovery_rate.India"
      ],
      "execution_count": null,
      "outputs": []
    },
    {
      "cell_type": "code",
      "metadata": {
        "id": "wX-OfBUPrfDl",
        "colab_type": "code",
        "colab": {}
      },
      "source": [
        "plt.plot(death_rate_ts.index,death_rate_ts.values)"
      ],
      "execution_count": null,
      "outputs": []
    },
    {
      "cell_type": "code",
      "metadata": {
        "id": "3GBu8s55r-BZ",
        "colab_type": "code",
        "colab": {}
      },
      "source": [
        "ts_array = [death_rate_ts[100:], growth_rate_ts[100:], active_rate_ts[100:],recovery_rate_ts[100:]]\n",
        "labels = ['DeathRate', 'GrowthRate', 'ActiveRate', 'RecoveryRate']\n",
        "colors = [color_arr[5],  color_arr[0], color_arr[2], color_arr[3]]\n",
        "mode_size = [8, 8, 12, 8]\n",
        "line_size = [2, 2, 4, 2]\n",
        "\n",
        "# Calling the draw_plot function defined above\n",
        "fig_3 = draw_plot(ts_array = ts_array, \n",
        "                  ts_label = labels , \n",
        "                  title = \"Covid-19 Case Trend in INDIA\",\n",
        "                  colors = colors, mode_size = mode_size, \n",
        "                  line_size = line_size , \n",
        "                  x_axis_title = \"Date\" , \n",
        "                  y_axis_title = \"Case Count\", \n",
        "                  tickangle = 315, \n",
        "                  yaxis_type = \"\", additional_annotations=[])\n",
        "\n",
        "fig_3.show()"
      ],
      "execution_count": null,
      "outputs": []
    },
    {
      "cell_type": "code",
      "metadata": {
        "id": "-cWhZh_CrNTk",
        "colab_type": "code",
        "colab": {}
      },
      "source": [
        "death_rate_ts"
      ],
      "execution_count": null,
      "outputs": []
    },
    {
      "cell_type": "code",
      "metadata": {
        "id": "uOMN_OGTp82D",
        "colab_type": "code",
        "colab": {}
      },
      "source": [
        "new_cases.India\n",
        "plt.figure(figsize=(15,8))\n",
        "plt.plot(confirmed.index[100:],active_rate.India[100:],label=\"Active Rate of India\")\n",
        "plt.plot(confirmed.index[100:],overall_growth_rate.India[100:],label=\"Growth Rate of India\")\n",
        "plt.plot(confirmed.index[100:],recovery_rate.India[100:],label=\"Recovery Rate of India\")\n",
        "plt.suptitle(\"Recent Covid 19  Cases in India (upto August 28th 2020)\")\n",
        "plt.xlabel(\"Days\")\n",
        "plt.ylabel(\"% Increase or Decrease or Different Cases\")\n",
        "plt.text(10,20,\"Anathnath Ghosh\",fontsize=65,color='gray',alpha=.4,rotation=25)\n",
        "plt.legend(loc='upper right')\n",
        "plt.show()"
      ],
      "execution_count": null,
      "outputs": []
    },
    {
      "cell_type": "code",
      "metadata": {
        "id": "6fip69E4oNAT",
        "colab_type": "code",
        "colab": {}
      },
      "source": [
        "new_cases.India"
      ],
      "execution_count": null,
      "outputs": []
    },
    {
      "cell_type": "code",
      "metadata": {
        "id": "UsQSTmG5o3Pr",
        "colab_type": "code",
        "colab": {}
      },
      "source": [
        "growth_India_ts=growth_rate.India\n"
      ],
      "execution_count": null,
      "outputs": []
    },
    {
      "cell_type": "code",
      "metadata": {
        "id": "FU3V8pI5o_5d",
        "colab_type": "code",
        "colab": {}
      },
      "source": [
        "growth_India_ts"
      ],
      "execution_count": null,
      "outputs": []
    },
    {
      "cell_type": "code",
      "metadata": {
        "id": "dzQKGHuenyol",
        "colab_type": "code",
        "colab": {}
      },
      "source": [
        "conf_velocity=confirmed.copy()\n",
        "for day in range(1,len(confirmed)):\n",
        "     conf_velocity.iloc[day]=(confirmed.iloc[day]-confirmed.iloc[day-1])/day"
      ],
      "execution_count": null,
      "outputs": []
    },
    {
      "cell_type": "code",
      "metadata": {
        "id": "uNACB3zw6CAQ",
        "colab_type": "code",
        "colab": {}
      },
      "source": [
        "conf_ace=confirmed.copy()\n",
        "for day in range(1,len(confirmed)):\n",
        "     conf_ace.iloc[day]=(conf_velocity.iloc[day]-conf_velocity.iloc[day-1])/day"
      ],
      "execution_count": null,
      "outputs": []
    },
    {
      "cell_type": "code",
      "metadata": {
        "id": "jwUnb8dzl9-6",
        "colab_type": "code",
        "colab": {}
      },
      "source": [
        "new_cases"
      ],
      "execution_count": null,
      "outputs": []
    },
    {
      "cell_type": "markdown",
      "metadata": {
        "id": "XDcXIOc4eSF1",
        "colab_type": "text"
      },
      "source": [
        "# Use of plotly"
      ]
    },
    {
      "cell_type": "markdown",
      "metadata": {
        "id": "COXqOsvFR07Q",
        "colab_type": "text"
      },
      "source": [
        "SIR MODEL STUDY 29th August 2020"
      ]
    },
    {
      "cell_type": "code",
      "metadata": {
        "id": "NnjWhND2SCfn",
        "colab_type": "code",
        "colab": {}
      },
      "source": [
        "frac_inf=confirmed.India.max()/1350000000\n",
        "frac_recov=recovered.India.max()/confirmed.India.max()\n",
        "frac_sus=1-frac_inf"
      ],
      "execution_count": null,
      "outputs": []
    },
    {
      "cell_type": "code",
      "metadata": {
        "id": "Cl7R61k7SMV2",
        "colab_type": "code",
        "colab": {}
      },
      "source": [
        "frac_inf\n",
        "frac_recov\n",
        "frac_sus"
      ],
      "execution_count": null,
      "outputs": []
    },
    {
      "cell_type": "code",
      "metadata": {
        "id": "yjXoCHO3oAhw",
        "colab_type": "code",
        "colab": {}
      },
      "source": [
        "import matplotlib.pyplot as plt\n",
        "import numpy as np\n",
        "ndays=100\n",
        "dt=.1 # step in days\n",
        "npts=int(ndays/dt)\n",
        "beta=(1.0/3) # Infection rate\n",
        "gamma=(1.0/14.0) # Recovery rate\n",
        "S=np.zeros(npts) # Susceptible\n",
        "I=np.zeros(npts) # Infected\n",
        "R=np.zeros(npts) # Recovered persons\n",
        "t=np.arange(npts)*dt\n",
        "I[0]=frac_inf # Infected proportin\n",
        "S[0]=1-I[0]\n",
        "R[0]=frac_recov\n",
        "\n",
        "for i in range(npts-1):\n",
        "  S[i+1]=S[i]-beta*(S[i]*I[i])*dt\n",
        "  I[i+1]=I[i]+(beta*I[i]*S[i]-gamma*I[i])*dt\n",
        "  R[i+1]=R[i]+(gamma*I[i])*dt\n",
        "\n",
        "fig=plt.figure(1)\n",
        "plt.plot(t,S,'r',lw=3,label=\"Susceptible\")\n",
        "plt.plot(t,I,'g',lw=3,label=\"Infected\")\n",
        "plt.plot(t,R,'b',lw=3,label=\"Recovered\")\n",
        "fig.legend(); plt.xlabel(\"days\");plt.ylabel(\" Cases\")\n",
        "fig.show()"
      ],
      "execution_count": null,
      "outputs": []
    },
    {
      "cell_type": "code",
      "metadata": {
        "id": "LvyUyQl7ryBT",
        "colab_type": "code",
        "colab": {}
      },
      "source": [
        "import seaborn as  sns\n",
        "plt.figure(figsize=(20,15))\n",
        "sns.barplot(x=growth_rate.index,y=growth_rate.India,label='Confirmed',\n",
        "            color='g')"
      ],
      "execution_count": null,
      "outputs": []
    },
    {
      "cell_type": "code",
      "metadata": {
        "id": "4Bk9HeFLtxhI",
        "colab_type": "code",
        "colab": {}
      },
      "source": [
        "import plotly.express as px"
      ],
      "execution_count": null,
      "outputs": []
    },
    {
      "cell_type": "code",
      "metadata": {
        "id": "8vthn9C4RwEL",
        "colab_type": "code",
        "colab": {}
      },
      "source": [
        "import matplotlib.pyplot as plt\n",
        "import numpy as np\n",
        "ndays=100\n",
        "dt=.1 # step in days\n",
        "npts=int(ndays/dt)\n",
        "beta=(1.0/3.0) # Infection rate\n",
        "gamma=(1.0/14.0) # Recovery rate\n",
        "S=np.zeros(npts) # Susceptible\n",
        "I=np.zeros(npts) # Infected\n",
        "R=np.zeros(npts) # Recovered persons\n",
        "t=np.arange(npts)*dt\n",
        "I[0]=frac_inf # Infected proportin\n",
        "S[0]=1-I[0]\n",
        "R[0]=frac_recov\n",
        "\n",
        "for i in range(npts-1):\n",
        "  S[i+1]=S[i]-beta*(S[i]*I[i])*dt\n",
        "  I[i+1]=I[i]+(beta*I[i]*S[i]-gamma*I[i])*dt\n",
        "  R[i+1]=R[i]+(gamma*I[i])*dt\n",
        "\n",
        "fig=plt.figure(1)\n",
        "plt.plot(t,S,'r',lw=3,label=\"Susceptible\")\n",
        "plt.plot(t,I,'g',lw=3,label=\"Infected\")\n",
        "plt.plot(t,R,'b',lw=3,label=\"Recovered\")\n",
        "fig.legend(); plt.xlabel(\"days\");plt.ylabel(\" Different fractional Cases\")\n",
        "fig.show()"
      ],
      "execution_count": null,
      "outputs": []
    },
    {
      "cell_type": "code",
      "metadata": {
        "id": "mebvojbJpeKo",
        "colab_type": "code",
        "colab": {}
      },
      "source": [
        "I.max()"
      ],
      "execution_count": null,
      "outputs": []
    },
    {
      "cell_type": "code",
      "metadata": {
        "id": "slLZprDfSCy5",
        "colab_type": "code",
        "cellView": "both",
        "colab": {}
      },
      "source": [
        "#@title\n",
        "x=confirmed.index\n",
        "y=conf_ace.India\n",
        "y1=conf_ace.Italy\n",
        "y2=conf_ace.US\n",
        "z=conf_velocity.India\n",
        "z1=conf_velocity.Italy\n",
        "z2=conf_velocity.US\n",
        "m=overall_growth_rate.India\n",
        "m1=overall_growth_rate.Italy\n",
        "m2=overall_growth_rate.US\n",
        "s=confirmed.India\n",
        "s1=confirmed.Italy\n",
        "s2=confirmed.US\n",
        "plt.subplots(figsize=(15,10))\n",
        "plt.subplot(221)\n",
        "plt.plot(x[90:],y.values[90:],x[90:],y1[90:],x[90:],y2[90:])\n",
        "plt.title('Data Aceeleration of India. Italy and US')\n",
        "plt.subplot(222)\n",
        "plt.plot(x[90:],z.values[90:],x[90:],z1[90:],x[90:],z2[90:])\n",
        "plt.title('Data velocity of India, Italy and US')\n",
        "plt.subplot(223)\n",
        "plt.plot(x[90:],m.values[90:],x[90:],m1[90:],x[90:],m2[90:])\n",
        "plt.title('Overall growth rate of India, Italy and US')\n",
        "plt.subplot(224)\n",
        "plt.plot(x[90:],s.values[90:],x[90:],s1[90:],x[90:],s2[90:])\n",
        "plt.title('Confirmed Cases')\n",
        "plt.show()\n",
        "#y=aceleration_conf.India\n",
        "#y.values\n",
        "#y.index\n",
        "\n"
      ],
      "execution_count": null,
      "outputs": []
    },
    {
      "cell_type": "code",
      "metadata": {
        "id": "0wRvIwRDPWnw",
        "colab_type": "code",
        "colab": {}
      },
      "source": [
        "from bokeh.io import output_file, show\n",
        "from bokeh.layouts import gridplot\n",
        "from bokeh.plotting import figure\n",
        "\n",
        "output_file(\"layout_grid.html\")\n",
        "x=np.linspace(1,len(confirmed.index),len(confirmed.index))\n",
        "y=conf_ace.India\n",
        "q=conf_ace.Brazil\n",
        "z=conf_ace.US\n",
        "m=conf_ace.Italy\n",
        "\n",
        "y1=conf_velocity.India\n",
        "q1=conf_velocity.Brazil\n",
        "m1=conf_velocity.Italy\n",
        "z1=conf_velocity.US\n",
        "\n",
        "y2=overall_growth_rate.India\n",
        "q2=overall_growth_rate.Brazil\n",
        "m2=overall_growth_rate.Italy\n",
        "z2=overall_growth_rate.US\n",
        "\n",
        "y3=confirmed.India\n",
        "q3=confirmed.Brazil\n",
        "m3=confirmed.Italy\n",
        "z3=confirmed.US\n",
        "\n",
        "# create three plots\n",
        "s1 = figure(background_fill_color=\"#fafafa\")\n",
        "s1.circle(x, y.values, size=1, alpha=0.8, legend_label='India-ace',color='orange')\n",
        "s1.square(x, z.values, size=2, alpha=0.3, legend_label='Brazil-ace')\n",
        "s1.triangle(x, m.values, size=3, alpha=0.93, legend_label='Italy-ace',color='green')\n",
        "s1.square_cross(x, q.values, size=4, alpha=0.93, legend_label='US-ace',color='red')\n",
        "\n",
        "s2 = figure(background_fill_color=\"#fafafa\")\n",
        "s2.triangle(x, y1.values, size=1, alpha=0.8, legend_label='India-velocity',color='orange')\n",
        "s2.triangle(x, z1.values, size=1, alpha=0.3, legend_label='Brazil-velocity')\n",
        "s2.triangle(x, m1.values, size=1, alpha=0.93, legend_label='Italy-velocity',color='green')\n",
        "s2.triangle(x, q1.values, size=1, alpha=0.93, legend_label='US-velocity',color='red')\n",
        "\n",
        "s3 = figure(background_fill_color=\"#fafafa\")\n",
        "s3.square(x, y2.values, size=1, alpha=0.8, legend_label='India-growthrate',color='orange')\n",
        "s3.square(x, z2.values, size=1, alpha=0.3, legend_label='Brazil-growthrate')\n",
        "s3.square(x, m2.values, size=1, alpha=0.93, legend_label='Italy-growthrate',color='green')\n",
        "s3.square(x, q2.values, size=1, alpha=0.93, legend_label='US-growthrate',color='red')\n",
        "\n",
        "s4 = figure(background_fill_color=\"#fafafa\")\n",
        "s4.square(x, y3.values, size=1, alpha=0.8, legend_label='India-confirmed',color='orange')\n",
        "s4.square(x, z3.values, size=1, alpha=0.3, legend_label='Brazil-confirmed')\n",
        "s4.square(x, m3.values, size=1, alpha=0.93, legend_label='Italy-confirmed',color='green')\n",
        "s4.square(x, q3.values, size=1, alpha=0.93, legend_label='US-confirmed',color='red')\n",
        "\n",
        "# make a grid\n",
        "grid = gridplot([[s1, s2], [s3, s4]], plot_width=250, plot_height=250)\n",
        "show(grid)\n"
      ],
      "execution_count": null,
      "outputs": []
    },
    {
      "cell_type": "code",
      "metadata": {
        "id": "jbZ8YRV1lHti",
        "colab_type": "code",
        "colab": {}
      },
      "source": [
        "from bokeh.io import output_file, show\n",
        "from bokeh.layouts import gridplot\n",
        "from bokeh.plotting import figure\n",
        "\n",
        "output_file(\"layout_grid.html\")\n",
        "x=np.linspace(1,len(confirmed.index),len(confirmed.index))\n",
        "y=conf_ace.India\n",
        "q=conf_ace.Brazil\n",
        "z=conf_ace.US\n",
        "m=conf_ace.Italy\n",
        "\n",
        "y1=conf_velocity.India\n",
        "q1=conf_velocity.Brazil\n",
        "m1=conf_velocity.Italy\n",
        "z1=conf_velocity.US\n",
        "\n",
        "y2=overall_growth_rate.India\n",
        "q2=overall_growth_rate.Brazil\n",
        "m2=overall_growth_rate.Italy\n",
        "z2=overall_growth_rate.US\n",
        "\n",
        "y3=confirmed.India\n",
        "q3=confirmed.Brazil\n",
        "m3=confirmed.Italy\n",
        "z3=confirmed.US\n",
        "\n",
        "# create three plots\n",
        "s1 = figure(background_fill_color=\"#fafafa\")\n",
        "s1.circle(x, y.values, size=1, alpha=0.99, legend_label='India-ace',color='red')\n",
        "\n",
        "s2 = figure(background_fill_color=\"#fafafa\")\n",
        "s2.triangle(x, y1.values, size=1, alpha=0.8, legend_label='India-velocity',color='orange')\n",
        "\n",
        "s3 = figure(background_fill_color=\"#fafafa\")\n",
        "s3.square(x, y2.values, size=1, alpha=0.8, legend_label='India-growthrate',color='orange')\n",
        "\n",
        "s4 = figure(background_fill_color=\"#fafafa\")\n",
        "s4.square(x, y3.values, size=1, alpha=0.8, legend_label='India-confirmed',color='orange')\n",
        "\n",
        "# make a grid\n",
        "grid = gridplot([[s1, s2], [s3, s4]], plot_width=250, plot_height=250)\n",
        "show(grid)\n"
      ],
      "execution_count": null,
      "outputs": []
    },
    {
      "cell_type": "code",
      "metadata": {
        "id": "Ri2Qec1mmGXj",
        "colab_type": "code",
        "colab": {}
      },
      "source": [
        "from bokeh.io import output_file, show\n",
        "from bokeh.layouts import gridplot\n",
        "from bokeh.plotting import figure\n",
        "\n",
        "output_file(\"layout_grid.html\")\n",
        "x=np.linspace(1,len(confirmed.index),len(confirmed.index))\n",
        "y=conf_ace.India\n",
        "q=conf_ace.Brazil\n",
        "z=conf_ace.US\n",
        "m=conf_ace.Italy\n",
        "\n",
        "y1=conf_velocity.India\n",
        "q1=conf_velocity.Brazil\n",
        "m1=conf_velocity.Italy\n",
        "z1=conf_velocity.US\n",
        "\n",
        "y2=overall_growth_rate.India\n",
        "q2=overall_growth_rate.Brazil\n",
        "m2=overall_growth_rate.Italy\n",
        "z2=overall_growth_rate.US\n",
        "\n",
        "y3=confirmed.India\n",
        "q3=confirmed.Brazil\n",
        "m3=confirmed.Italy\n",
        "z3=confirmed.US\n",
        "\n",
        "# create three plots\n",
        "s1 = figure(background_fill_color=\"#fafafa\")\n",
        "s1.triangle(x, m.values, size=3, alpha=0.93, legend_label='Italy-ace',color='green')\n",
        "\n",
        "s2 = figure(background_fill_color=\"#fafafa\")\n",
        "s2.triangle(x, m1.values, size=1, alpha=0.93, legend_label='Italy-velocity',color='green')\n",
        "\n",
        "s3 = figure(background_fill_color=\"#fafafa\")\n",
        "s3.square(x, m2.values, size=1, alpha=0.93, legend_label='Italy-growthrate',color='green')\n",
        "\n",
        "s4 = figure(background_fill_color=\"#fafafa\")\n",
        "s4.square(x, m3.values, size=1, alpha=0.93, legend_label='Italy-confirmed',color='green')\n",
        "\n",
        "# make a grid\n",
        "grid = gridplot([[s1, s2], [s3, s4]], plot_width=250, plot_height=250)\n",
        "show(grid)\n"
      ],
      "execution_count": null,
      "outputs": []
    },
    {
      "cell_type": "code",
      "metadata": {
        "id": "s7VMF0Thb2Uc",
        "colab_type": "code",
        "colab": {}
      },
      "source": [
        "from bokeh.io import output_file, show\n",
        "from bokeh.layouts import gridplot\n",
        "from bokeh.plotting import figure\n",
        "\n",
        "output_file(\"layout_grid.html\")\n",
        "x=np.linspace(1,len(confirmed.index),len(confirmed.index))\n",
        "y=conf_ace.India\n",
        "q=conf_ace.Brazil\n",
        "z=conf_ace.US\n",
        "m=conf_ace.Italy\n",
        "\n",
        "y1=conf_velocity.India\n",
        "q1=conf_velocity.Brazil\n",
        "m1=conf_velocity.Italy\n",
        "z1=conf_velocity.US\n",
        "\n",
        "y2=overall_growth_rate.India\n",
        "q2=overall_growth_rate.Brazil\n",
        "m2=overall_growth_rate.Italy\n",
        "z2=overall_growth_rate.US\n",
        "\n",
        "y3=confirmed.India\n",
        "q3=confirmed.Brazil\n",
        "m3=confirmed.Italy\n",
        "z3=confirmed.US\n",
        "\n",
        "# create three plots\n",
        "s1 = figure(background_fill_color=\"#fafafa\")\n",
        "s1.square(x, z.values, size=2, alpha=0.99, legend_label='Brazil-ace',color='green')\n",
        "\n",
        "s2 = figure(background_fill_color=\"#fafafa\")\n",
        "s2.triangle(x, z1.values, size=1, alpha=0.99, legend_label='Brazil-velocity',color='red')\n",
        "\n",
        "s3 = figure(background_fill_color=\"#fafafa\")\n",
        "s3.square(x, z2.values, size=1, alpha=0.99, legend_label='Brazil-growthrate',color='yellow')\n",
        "\n",
        "s4 = figure(background_fill_color=\"#fafafa\")\n",
        "s4.square(x, z3.values, size=1, alpha=0.99, legend_label='Brazil-confirmed',color='orange')\n",
        "\n",
        "# make a grid\n",
        "grid = gridplot([[s1, s2], [s3, s4]], plot_width=250, plot_height=250)\n",
        "show(grid)\n"
      ],
      "execution_count": null,
      "outputs": []
    },
    {
      "cell_type": "code",
      "metadata": {
        "id": "c7mkv_TPcJ8g",
        "colab_type": "code",
        "colab": {}
      },
      "source": [
        "from bokeh.io import output_file, show\n",
        "from bokeh.layouts import gridplot\n",
        "from bokeh.plotting import figure\n",
        "\n",
        "output_file(\"layout_grid.html\")\n",
        "x=np.linspace(1,len(confirmed.index),len(confirmed.index))\n",
        "y=conf_ace.India\n",
        "q=conf_ace.Brazil\n",
        "z=conf_ace.US\n",
        "m=conf_ace.Italy\n",
        "\n",
        "y1=conf_velocity.India\n",
        "q1=conf_velocity.Brazil\n",
        "m1=conf_velocity.Italy\n",
        "z1=conf_velocity.US\n",
        "\n",
        "y2=overall_growth_rate.India\n",
        "q2=overall_growth_rate.Brazil\n",
        "m2=overall_growth_rate.Italy\n",
        "z2=overall_growth_rate.US\n",
        "\n",
        "y3=confirmed.India\n",
        "q3=confirmed.Brazil\n",
        "m3=confirmed.Italy\n",
        "z3=confirmed.US\n",
        "\n",
        "# create three plots\n",
        "s1 = figure(background_fill_color=\"#fafafa\")\n",
        "s1.square_cross(x, q.values, size=4, alpha=0.93, legend_label='US-aceleration',color='red')\n",
        "\n",
        "s2 = figure(background_fill_color=\"#fafafa\")\n",
        "s2.triangle(x, q1.values, size=1, alpha=0.93, legend_label='US-velocity',color='red')\n",
        "\n",
        "s3 = figure(background_fill_color=\"#fafafa\")\n",
        "s3.square(x, q2.values, size=1, alpha=0.93, legend_label='US-growthrate',color='red')\n",
        "\n",
        "s4 = figure(background_fill_color=\"#fafafa\")\n",
        "s4.square(x, q3.values, size=1, alpha=0.93, legend_label='US-confirmed',color='red')\n",
        "\n",
        "# make a grid\n",
        "grid = gridplot([[s1, s2], [s3, s4]], plot_width=250, plot_height=250)\n",
        "show(grid)\n"
      ],
      "execution_count": null,
      "outputs": []
    },
    {
      "cell_type": "code",
      "metadata": {
        "id": "2Tp4PF3No8bf",
        "colab_type": "code",
        "colab": {}
      },
      "source": [
        "ace_roll_avg=confirmed.copy()\n",
        "velocity_roll_avg=confirmed.copy()\n",
        "for i in range(1,len(confirmed)):\n",
        "     ace_roll_avg.iloc[day]=(conf_ace.iloc[day])/day\n",
        "     velocity_roll_avg.iloc[day]=(conf_velocity.iloc[day])/day"
      ],
      "execution_count": null,
      "outputs": []
    },
    {
      "cell_type": "code",
      "metadata": {
        "id": "VLrTAQHDqbx4",
        "colab_type": "code",
        "colab": {}
      },
      "source": [
        "d=ace_roll_avg.India\n",
        "d1=ace_roll_avg.Brazil\n",
        "d2=ace_roll_avg.Italy\n",
        "d3=ace_roll_avg.US\n",
        "\n",
        "\n",
        "\n",
        "plt.plot(x,d.values,x,d1.values,x,d2.values,x,d3.values)"
      ],
      "execution_count": null,
      "outputs": []
    },
    {
      "cell_type": "code",
      "metadata": {
        "id": "GnLIQZQWqDEt",
        "colab_type": "code",
        "colab": {}
      },
      "source": [
        "plt.figure(figsize=(12,8))\n",
        "countrywise.plot(kind='bar',x='Country_Region',y='Confirmed')\n",
        "plt.show()"
      ],
      "execution_count": null,
      "outputs": []
    },
    {
      "cell_type": "code",
      "metadata": {
        "id": "FporjdAZq2TH",
        "colab_type": "code",
        "colab": {}
      },
      "source": [
        "import plotly.express as px\n",
        "px.bar(countrywise,x='Country_Region',y='Confirmed')"
      ],
      "execution_count": null,
      "outputs": []
    },
    {
      "cell_type": "code",
      "metadata": {
        "id": "bNZp-BL0rbx1",
        "colab_type": "code",
        "colab": {}
      },
      "source": [
        "import bokeh\n",
        "from bokeh.plotting import figure\n",
        "from bokeh.io import show\n",
        "from bokeh.io import output_notebook\n",
        "from bokeh.resources import INLINE\n",
        "output_notebook(resources=INLINE)\n",
        "x=countrywise.index\n",
        "y=countrywise.Confirmed\n",
        "y1=countrywise.Recovered\n",
        "y2=countrywise.Deaths\n",
        "p=figure(plot_width=500,plot_height=400)\n",
        "p.outline_line_width=7\n",
        "p.outline_line_alpha=.3\n",
        "p.outline_line_color='navy'\n",
        "p.title.text_color='olive'\n",
        "p.title.text_font='times'\n",
        "p.title.text_font_style='italic'\n",
        "p.background_fill_color='wheat'\n",
        "p.line(x,y,legend_label=\"Confirmed\",line_color='green')\n",
        "p.line(x,y1,legend_label=\"Recovered\",line_dash=[4,4],line_color='red')\n",
        "p.line(x,y2,legend_label=\"Recovered\",line_dash=[4,4],line_color='black')"
      ],
      "execution_count": null,
      "outputs": []
    },
    {
      "cell_type": "code",
      "metadata": {
        "id": "Av_Pt_BM0qef",
        "colab_type": "code",
        "colab": {}
      },
      "source": [
        "show(p)"
      ],
      "execution_count": null,
      "outputs": []
    },
    {
      "cell_type": "code",
      "metadata": {
        "id": "281Cf5ka0tIh",
        "colab_type": "code",
        "colab": {}
      },
      "source": [
        "import bokeh\n",
        "from bokeh.plotting import figure\n",
        "from bokeh.io import show\n",
        "from bokeh.io import output_notebook\n",
        "from bokeh.resources import INLINE\n",
        "output_notebook(resources=INLINE)\n",
        "x=np.linspace(1,len(confirmed.index),len(confirmed.index))\n",
        "y=conf_rollavg.US\n",
        "y1=recov_rollavg.US\n",
        "y2=death_rollavg.US\n",
        "p=figure(plot_width=1000,plot_height=500)\n",
        "p.outline_line_width=7\n",
        "p.outline_line_alpha=.3\n",
        "p.outline_line_color='navy'\n",
        "p.title.text_color='olive'\n",
        "p.title.text_font='times'\n",
        "p.title.text_font_style='italic'\n",
        "p.background_fill_color='wheat'\n",
        "p.line(x,y.values,legend_label=\"Confirmed\",line_color='green')\n",
        "p.line(x,y1.values,legend_label=\"Recovered\",line_dash=[4,4],line_color='red')\n",
        "p.line(x,y2.values,legend_label=\"Death\",line_dash=[4,4],line_color='black')"
      ],
      "execution_count": null,
      "outputs": []
    },
    {
      "cell_type": "code",
      "metadata": {
        "id": "H9eMb_oy5TVt",
        "colab_type": "code",
        "colab": {}
      },
      "source": [
        "show(p)"
      ],
      "execution_count": null,
      "outputs": []
    },
    {
      "cell_type": "code",
      "metadata": {
        "id": "ZzByFnaEVfrt",
        "colab_type": "code",
        "colab": {}
      },
      "source": [
        "import bokeh\n",
        "from bokeh.plotting import figure\n",
        "from bokeh.io import show\n",
        "from bokeh.io import output_notebook\n",
        "from bokeh.resources import INLINE\n",
        "output_notebook(resources=INLINE)\n",
        "x=np.linspace(1,len(confirmed.index),len(confirmed.index))\n",
        "y=conf_rollavg.India\n",
        "y1=recov_rollavg.India\n",
        "y2=death_rollavg.India\n",
        "p=figure(plot_width=1000,plot_height=500)\n",
        "p.outline_line_width=7\n",
        "p.outline_line_alpha=.3\n",
        "p.outline_line_color='navy'\n",
        "p.title.text_color='olive'\n",
        "p.title.text_font='times'\n",
        "p.title.text_font_style='italic'\n",
        "p.background_fill_color='wheat'\n",
        "p.line(x,y.values,legend_label=\"Confirmed\",line_color='green')\n",
        "p.line(x,y1.values,legend_label=\"Recovered\",line_dash=[4,4],line_color='red')\n",
        "p.line(x,y2.values,legend_label=\"Death\",line_dash=[4,4],line_color='black')"
      ],
      "execution_count": null,
      "outputs": []
    },
    {
      "cell_type": "code",
      "metadata": {
        "id": "Im0SUWz_VvAY",
        "colab_type": "code",
        "colab": {}
      },
      "source": [
        "show(p)"
      ],
      "execution_count": null,
      "outputs": []
    },
    {
      "cell_type": "code",
      "metadata": {
        "id": "5jpP-IuIX45d",
        "colab_type": "code",
        "colab": {}
      },
      "source": [
        "from bokeh.io import output_file, show\n",
        "from bokeh.layouts import row\n",
        "from bokeh.plotting import figure\n",
        "\n",
        "output_file(\"layout.html\")\n",
        "x=np.linspace(1,len(confirmed.index),len(confirmed.index))\n",
        "y=conf_rollavg.India\n",
        "y1=recov_rollavg.India\n",
        "y2=death_rollavg.India\n",
        "#x = list(range(11))\n",
        "#y0 = x\n",
        "#y1 = [10 - i for i in x]\n",
        "#y2 = [abs(i - 5) for i in x]\n",
        "\n",
        "# create three plots\n",
        "s1 = figure(plot_width=250, plot_height=250, background_fill_color=\"#fafafa\")\n",
        "s1.circle(x, y.values, size=1,legend_label='Confirmed-India', alpha=0.8)\n",
        "\n",
        "s2 = figure(plot_width=250, plot_height=250, background_fill_color=\"#fafafa\")\n",
        "s2.triangle(x, y1.values, size=1, legend_label='Recovered-India', alpha=0.8)\n",
        "\n",
        "s3 = figure(plot_width=250, plot_height=250, background_fill_color=\"#fafafa\")\n",
        "s3.square(x, y2.values, size=1, color=\"#d95b43\", alpha=0.8)\n",
        "\n",
        "# put the results in a column and show\n",
        "#show(column(s1, s2, s3))\n",
        "show(row(s1, s2, s3))\n"
      ],
      "execution_count": null,
      "outputs": []
    },
    {
      "cell_type": "code",
      "metadata": {
        "id": "DTSuWnTRek95",
        "colab_type": "code",
        "colab": {}
      },
      "source": [
        "from bokeh.io import output_file, show\n",
        "from bokeh.layouts import gridplot\n",
        "from bokeh.plotting import figure\n",
        "\n",
        "output_file(\"layout_grid.html\")\n",
        "x=np.linspace(1,len(confirmed),len(confirmed.index))\n",
        "y=conf_rollavg.India\n",
        "q=conf_rollavg.Brazil\n",
        "z=conf_rollavg.US\n",
        "m=conf_rollavg.Italy\n",
        "y1=recov_rollavg.India\n",
        "q1=recov_rollavg.Brazil\n",
        "m1=recov_rollavg.Italy\n",
        "z1=recov_rollavg.US\n",
        "y2=death_rollavg.India\n",
        "q2=death_rollavg.Brazil\n",
        "m2=death_rollavg.Italy\n",
        "z2=death_rollavg.US\n",
        "y3=active_rollavg.India\n",
        "q3=active_rollavg.Brazil\n",
        "m3=active_rollavg.Italy\n",
        "z3=active_rollavg.US\n",
        "\n",
        "# create three plots\n",
        "s1 = figure(background_fill_color=\"#fafafa\")\n",
        "s1.circle(x, y.values, size=1, alpha=0.8, legend_label='India-confirmed',color='orange')\n",
        "s1.circle(x, z.values, size=1, alpha=0.3, legend_label='US-confirmed')\n",
        "s1.circle(x, m.values, size=1, alpha=0.93, legend_label='Italy-confirmed',color='green')\n",
        "s1.circle(x, q.values, size=1, alpha=0.93, legend_label='Brazil-confirmed',color='red')\n",
        "\n",
        "s2 = figure(background_fill_color=\"#fafafa\")\n",
        "s2.triangle(x, y1.values, size=1, alpha=0.8, legend_label='India-recovered',color='orange')\n",
        "s2.triangle(x, z1.values, size=1, alpha=0.3, legend_label='US-recovered')\n",
        "s2.triangle(x, m1.values, size=1, alpha=0.93, legend_label='Italy-recovered',color='green')\n",
        "s2.triangle(x, q1.values, size=1, alpha=0.93, legend_label='Brazil-recovered',color='red')\n",
        "\n",
        "s3 = figure(background_fill_color=\"#fafafa\")\n",
        "s3.square(x, y2.values, size=1, alpha=0.8, legend_label='India-death',color='orange')\n",
        "s3.square(x, z2.values, size=1, alpha=0.3, legend_label='US-death')\n",
        "s3.square(x, m2.values, size=1, alpha=0.93, legend_label='Italy-death',color='green')\n",
        "s3.square(x, q2.values, size=1, alpha=0.93, legend_label='Brazil-death',color='red')\n",
        "\n",
        "s4 = figure(background_fill_color=\"#fafafa\")\n",
        "s4.square(x, y3.values, size=1, alpha=0.8, legend_label='India-active',color='orange')\n",
        "s4.square(x, z3.values, size=1, alpha=0.3, legend_label='US-active')\n",
        "s4.square(x, m3.values, size=1, alpha=0.93, legend_label='Italy-active',color='green')\n",
        "s4.square(x, q3.values, size=1, alpha=0.93, legend_label='Brazil-active',color='red')\n",
        "\n",
        "# make a grid\n",
        "grid = gridplot([[s1, s2], [s3, s4]], plot_width=250, plot_height=250)\n",
        "\n",
        "show(grid)"
      ],
      "execution_count": null,
      "outputs": []
    },
    {
      "cell_type": "code",
      "metadata": {
        "id": "_9rapLhLhZiM",
        "colab_type": "code",
        "colab": {}
      },
      "source": [
        "import bokeh\n",
        "from bokeh.plotting import figure\n",
        "from bokeh.io import show\n",
        "from bokeh.io import output_notebook\n",
        "from bokeh.resources import INLINE\n",
        "output_notebook(resources=INLINE)\n",
        "x=np.linspace(1,len(confirmed.index),len(confirmed.index))\n",
        "y=conf_rollavg.US\n",
        "y1=conf_rollavg.India\n",
        "y2=conf_rollavg.Brazil\n",
        "y3=conf_rollavg.Italy\n",
        "p=figure(plot_width=1000,plot_height=500)\n",
        "p.outline_line_width=7\n",
        "p.outline_line_alpha=.3\n",
        "p.outline_line_color='navy'\n",
        "p.title.text_color='olive'\n",
        "p.title.text_font='times'\n",
        "p.title.text_font_style='italic'\n",
        "p.background_fill_color='wheat'\n",
        "p.line(x,y.values,legend_label=\"Confirmed-US\",line_color='green')\n",
        "p.line(x,y1.values,legend_label=\"Confirmed-India\",line_dash=[4,4],line_color='red')\n",
        "p.line(x,y2.values,legend_label=\"Confirmed-Brazil\",line_dash=[4,4],line_color='black')\n",
        "p.line(x,y3.values,legend_label=\"Confirmed-Italy\",line_dash=[4,4],line_color='orange')"
      ],
      "execution_count": null,
      "outputs": []
    },
    {
      "cell_type": "code",
      "metadata": {
        "id": "6sD8LjEkjtPy",
        "colab_type": "code",
        "colab": {}
      },
      "source": [
        "show(p)"
      ],
      "execution_count": null,
      "outputs": []
    },
    {
      "cell_type": "code",
      "metadata": {
        "id": "AtuF4xHpkoNt",
        "colab_type": "code",
        "colab": {}
      },
      "source": [
        "import bokeh\n",
        "from bokeh.plotting import figure\n",
        "from bokeh.io import show\n",
        "from bokeh.io import output_notebook\n",
        "from bokeh.resources import INLINE\n",
        "output_notebook(resources=INLINE)\n",
        "x=np.linspace(1,len(confirmed.index),len(confirmed.index))\n",
        "y=recov_rollavg.US\n",
        "y1=recov_rollavg.India\n",
        "y2=recov_rollavg.Brazil\n",
        "y3=recov_rollavg.Italy\n",
        "p=figure(plot_width=1000,plot_height=500)\n",
        "p.outline_line_width=7\n",
        "p.outline_line_alpha=.3\n",
        "p.outline_line_color='navy'\n",
        "p.title.text_color='olive'\n",
        "p.title.text_font='times'\n",
        "p.title.text_font_style='italic'\n",
        "p.background_fill_color='wheat'\n",
        "p.line(x,y.values,legend_label=\"Recovered-US\",line_color='green')\n",
        "p.line(x,y1.values,legend_label=\"Recovered-India\",line_dash=[4,4],line_color='red')\n",
        "p.line(x,y2.values,legend_label=\"Recovered-Brazil\",line_dash=[4,4],line_color='black')\n",
        "p.line(x,y3.values,legend_label=\"Recovered-Italy\",line_dash=[4,4],line_color='orange')"
      ],
      "execution_count": null,
      "outputs": []
    },
    {
      "cell_type": "code",
      "metadata": {
        "id": "OXblFq4xlF1K",
        "colab_type": "code",
        "colab": {}
      },
      "source": [
        "show(p)"
      ],
      "execution_count": null,
      "outputs": []
    },
    {
      "cell_type": "code",
      "metadata": {
        "id": "n4HKtawDlhDC",
        "colab_type": "code",
        "colab": {}
      },
      "source": [
        "import bokeh\n",
        "from bokeh.plotting import figure\n",
        "from bokeh.io import show\n",
        "from bokeh.io import output_notebook\n",
        "from bokeh.resources import INLINE\n",
        "output_notebook(resources=INLINE)\n",
        "x=np.linspace(1,len(confirmed.index),len(confirmed.index))\n",
        "y=death_rollavg.US\n",
        "y1=death_rollavg.India\n",
        "y2=death_rollavg.Brazil\n",
        "y3=death_rollavg.Italy\n",
        "p=figure(plot_width=1000,plot_height=500)\n",
        "p.outline_line_width=7\n",
        "p.outline_line_alpha=.3\n",
        "p.outline_line_color='navy'\n",
        "p.title.text_color='olive'\n",
        "p.title.text_font='times'\n",
        "p.title.text_font_style='italic'\n",
        "p.background_fill_color='white'\n",
        "p.line(x,y.values,legend_label=\"Death-US\",line_color='green')\n",
        "p.line(x,y1.values,legend_label=\"Death-India\",line_dash=[4,4],line_color='red')\n",
        "p.line(x,y2.values,legend_label=\"Death-Brazil\",line_dash=[4,4],line_color='black')\n",
        "p.line(x,y3.values,legend_label=\"Death-Italy\",line_dash=[4,4],line_color='orange')"
      ],
      "execution_count": null,
      "outputs": []
    },
    {
      "cell_type": "code",
      "metadata": {
        "id": "GSCTC1Pyl6Rb",
        "colab_type": "code",
        "colab": {}
      },
      "source": [
        "show(p)"
      ],
      "execution_count": null,
      "outputs": []
    },
    {
      "cell_type": "code",
      "metadata": {
        "id": "dBDWShcKmEV7",
        "colab_type": "code",
        "colab": {}
      },
      "source": [
        "import bokeh\n",
        "from bokeh.plotting import figure\n",
        "from bokeh.io import show\n",
        "from bokeh.io import output_notebook\n",
        "from bokeh.resources import INLINE\n",
        "output_notebook(resources=INLINE)\n",
        "x=np.linspace(1,len(confirmed.index),len(confirmed.index))\n",
        "y=active_rollavg.US\n",
        "y1=active_rollavg.India\n",
        "y2=active_rollavg.Brazil\n",
        "y3=active_rollavg.Italy\n",
        "p=figure(plot_width=1000,plot_height=500)\n",
        "p.outline_line_width=7\n",
        "p.outline_line_alpha=.3\n",
        "p.outline_line_color='navy'\n",
        "p.title.text_color='olive'\n",
        "p.title.text_font='times'\n",
        "p.title.text_font_style='italic'\n",
        "p.background_fill_color='white'\n",
        "p.line(x,y.values,legend_label=\"Active-US\",line_color='green')\n",
        "p.line(x,y1.values,legend_label=\"Active-India\",line_dash=[4,4],line_color='red')\n",
        "p.line(x,y2.values,legend_label=\"Active-Brazil\",line_dash=[4,4],line_color='black')\n",
        "p.line(x,y3.values,legend_label=\"Active-Italy\",line_dash=[4,4],line_color='orange')"
      ],
      "execution_count": null,
      "outputs": []
    },
    {
      "cell_type": "code",
      "metadata": {
        "id": "VOS9r9F7mezD",
        "colab_type": "code",
        "colab": {}
      },
      "source": [
        "show(p)"
      ],
      "execution_count": null,
      "outputs": []
    },
    {
      "cell_type": "code",
      "metadata": {
        "id": "oqrPNqp1UIHO",
        "colab_type": "code",
        "colab": {}
      },
      "source": [
        "plt.plot(y.index,y.values)"
      ],
      "execution_count": null,
      "outputs": []
    },
    {
      "cell_type": "code",
      "metadata": {
        "id": "DxFVZ38SUiUw",
        "colab_type": "code",
        "colab": {}
      },
      "source": [
        "len(y.index)"
      ],
      "execution_count": null,
      "outputs": []
    },
    {
      "cell_type": "code",
      "metadata": {
        "id": "dfrK3AvPEYA4",
        "colab_type": "code",
        "colab": {}
      },
      "source": [
        "len(y.values)"
      ],
      "execution_count": null,
      "outputs": []
    },
    {
      "cell_type": "code",
      "metadata": {
        "id": "s3fueS3WFpNY",
        "colab_type": "code",
        "colab": {}
      },
      "source": [
        "show(p)"
      ],
      "execution_count": null,
      "outputs": []
    },
    {
      "cell_type": "code",
      "metadata": {
        "id": "15FNP39NF1sR",
        "colab_type": "code",
        "colab": {}
      },
      "source": [
        "import numpy as np\n",
        "from bokeh.layouts import gridplot\n",
        "from bokeh.plotting import figure, output_file, show\n",
        "\n",
        "# prepare some data\n",
        "N = 100\n",
        "x = np.linspace(0, 4*np.pi, N)\n",
        "y0 = np.sin(x)\n",
        "y1 = np.cos(x)\n",
        "y2 = np.sin(x) + np.cos(x)\n",
        "\n",
        "# output to static HTML file\n",
        "output_file(\"linked_panning.html\")\n",
        "\n",
        "# create a new plot\n",
        "s1 = figure(width=250, plot_height=250, title=None)\n",
        "s1.circle(x, y0, size=2, color=\"navy\", alpha=0.5)\n",
        "\n",
        "# NEW: create a new plot and share both ranges\n",
        "s2 = figure(width=250, height=250, x_range=s1.x_range, y_range=s1.y_range, title=None)\n",
        "s2.triangle(x, y1, size=3, color=\"firebrick\", alpha=0.5)\n",
        "\n",
        "# NEW: create a new plot and share only one range\n",
        "s3 = figure(width=250, height=250, x_range=s1.x_range, title=None)\n",
        "s3.square(x, y2, size=4, color=\"olive\", alpha=0.5)\n",
        "\n",
        "# NEW: put the subplots in a gridplot\n",
        "p = gridplot([[s1, s2, s3]], toolbar_location=None)\n",
        "\n",
        "# show the results\n",
        "show(p)"
      ],
      "execution_count": null,
      "outputs": []
    },
    {
      "cell_type": "code",
      "metadata": {
        "id": "v8swRk_cLpCZ",
        "colab_type": "code",
        "colab": {}
      },
      "source": [
        "import numpy as np\n",
        "\n",
        "from bokeh.layouts import gridplot\n",
        "from bokeh.plotting import figure, output_file, show\n",
        "\n",
        "# prepare some data\n",
        "N = 100\n",
        "x = np.linspace(0, 4*np.pi, N)\n",
        "y0 = np.sin(x)\n",
        "y1 = np.cos(x)\n",
        "y2 = np.sin(x) + np.cos(x)\n",
        "\n",
        "# output to static HTML file\n",
        "output_file(\"linked_panning.html\")\n",
        "\n",
        "# create a new plot\n",
        "s1 = figure(width=250, plot_height=250, title=None)\n",
        "s1.circle(x, y0, size=10, color=\"navy\", alpha=0.5)\n",
        "\n",
        "# NEW: create a new plot and share both ranges\n",
        "s2 = figure(width=250, height=250, x_range=s1.x_range, y_range=s1.y_range, title=None)\n",
        "s2.triangle(x, y1, size=10, color=\"firebrick\", alpha=0.5)\n",
        "\n",
        "# NEW: create a new plot and share only one range\n",
        "s3 = figure(width=250, height=250, x_range=s1.x_range, title=None)\n",
        "s3.square(x, y2, size=10, color=\"olive\", alpha=0.5)\n",
        "\n",
        "# NEW: put the subplots in a gridplot\n",
        "p = gridplot([[s1, s2, s3]], toolbar_location=None)\n",
        "\n",
        "# show the results\n",
        "show(p)"
      ],
      "execution_count": null,
      "outputs": []
    },
    {
      "cell_type": "code",
      "metadata": {
        "id": "FclQ-ON6IahZ",
        "colab_type": "code",
        "colab": {}
      },
      "source": [
        "show(p)"
      ],
      "execution_count": null,
      "outputs": []
    },
    {
      "cell_type": "code",
      "metadata": {
        "id": "QSMC2ZVr8YH2",
        "colab_type": "code",
        "colab": {}
      },
      "source": [
        "len(y)"
      ],
      "execution_count": null,
      "outputs": []
    },
    {
      "cell_type": "code",
      "metadata": {
        "id": "dbUQ7W_c1hDf",
        "colab_type": "code",
        "colab": {}
      },
      "source": [
        "show(p)\n"
      ],
      "execution_count": null,
      "outputs": []
    },
    {
      "cell_type": "code",
      "metadata": {
        "id": "p2C8mSKBsJJJ",
        "colab_type": "code",
        "colab": {}
      },
      "source": [
        "show(p)"
      ],
      "execution_count": null,
      "outputs": []
    },
    {
      "cell_type": "code",
      "metadata": {
        "id": "30-6232FQT9J",
        "colab_type": "code",
        "colab": {}
      },
      "source": [
        "import seaborn as  sns\n",
        "plt.figure(figsize=(20,15))\n",
        "sns.barplot(x=countrywise.index,y=countrywise.Confirmed,data=countrywise,label='Confirmed',\n",
        "            color='g')"
      ],
      "execution_count": null,
      "outputs": []
    },
    {
      "cell_type": "code",
      "metadata": {
        "id": "QBsRLR2QW4Ma",
        "colab_type": "code",
        "colab": {}
      },
      "source": [
        "import plotly.express as px\n",
        "fig=px.bar(countrywise,x='Country_Region',y='Confirmed',barmode='group',height=500)"
      ],
      "execution_count": null,
      "outputs": []
    },
    {
      "cell_type": "code",
      "metadata": {
        "id": "kw0sDGlhYIHf",
        "colab_type": "code",
        "colab": {}
      },
      "source": [
        "fig.show()"
      ],
      "execution_count": null,
      "outputs": []
    },
    {
      "cell_type": "code",
      "metadata": {
        "id": "4j2b-LK0YYxz",
        "colab_type": "code",
        "colab": {}
      },
      "source": [
        "import plotly.graph_objects as go\n",
        "fig=go.Figure()\n",
        "fig.add_trace(go.Scatter(x=countrywise['Country_Region'],y=countrywise['Confirmed'],\n",
        "                         mode='lines+markers',name='Confirmed Cases'))\n"
      ],
      "execution_count": null,
      "outputs": []
    },
    {
      "cell_type": "code",
      "metadata": {
        "id": "MlpMGBkJxeyv",
        "colab_type": "code",
        "colab": {}
      },
      "source": [
        "for country in countries:\n",
        "    ax=plt.subplot()\n",
        "    ax.set_facecolor('black')\n",
        "    ax.figure.set_facecolor('#121212')\n",
        "    ax.tick_params(axis='x',color='white')\n",
        "    ax.tick_params(axis='y',color='white')\n",
        "    ax.set_title(r'sumulted growth rate  by {country}')\n",
        "#for country in countries:\n",
        "    confirmed[country][40:].plot(figsize=(10,10),label=country)\n",
        "    recovered[country][40:].plot(figsize=(10,10),label=country)\n",
        "    death[country][40:].plot(figsize=(10,10),label=country)\n",
        "    plt.legend(loc='upper left')\n",
        "    plt.show()    "
      ],
      "execution_count": null,
      "outputs": []
    },
    {
      "cell_type": "code",
      "metadata": {
        "id": "xTpDKMYiyP9A",
        "colab_type": "code",
        "colab": {}
      },
      "source": [
        "for country in countries:\n",
        "    #growth_rate[country].plot(figsize=(10,10),label=country)\n",
        "    conf_rollavg[country].plot(figsize=(10,10),label=country)\n",
        "    recov_rollavg[country].plot(figsize=(10,10),label=country)\n",
        "    death_rollavg[country].plot(figsize=(10,10),label=country)\n",
        "    plt.legend(loc='upper left')\n",
        "    plt.show()"
      ],
      "execution_count": null,
      "outputs": []
    },
    {
      "cell_type": "code",
      "metadata": {
        "id": "GL1raya3yev3",
        "colab_type": "code",
        "colab": {}
      },
      "source": [
        "for country in countries:\n",
        "     death_rate[country].plot.bar()\n",
        "     plt.legend(loc='upper left')\n",
        "     plt.show()"
      ],
      "execution_count": null,
      "outputs": []
    },
    {
      "cell_type": "code",
      "metadata": {
        "id": "DuAIOxG5-els",
        "colab_type": "code",
        "colab": {}
      },
      "source": [
        "import plotly.graph_objs as go\n",
        "import matplotlib.pyplot as plt\n",
        "plt.figure(figsize=(15,10))\n",
        "plt.subplot(221)\n",
        "x=conf_rollavg.index\n",
        "y=conf_rollavg.US\n",
        "fig=go.FigureWidget(data=[{'x':x,'y':y,'mode':'markers'}])\n",
        "plt.subplot(222)\n",
        "x=conf_rollavg.index\n",
        "y=conf_rollavg.India\n",
        "fig=go.FigureWidget(data=[{'x':x,'y':y,'mode':'markers'}])\n",
        "fig.show()"
      ],
      "execution_count": null,
      "outputs": []
    },
    {
      "cell_type": "code",
      "metadata": {
        "id": "g4FjhYL5fpie",
        "colab_type": "code",
        "colab": {}
      },
      "source": [
        "plt.figure(figsize=(20,10))\n",
        "plt.subplot(221)\n",
        "plt.plot(x,conf_rollavg.US,x,conf_rollavg.India,x,conf_rollavg.Italy,x,conf_rollavg.Brazil)\n",
        "plt.subplot(222)\n",
        "plt.plot(x,recov_rollavg.US,x,recov_rollavg.India,x,recov_rollavg.Italy,x,recov_rollavg.Brazil)\n",
        "plt.subplot(223)\n",
        "plt.plot(x,death_rollavg.US,x,death_rollavg.India,x,death_rollavg.Italy,x,death_rollavg.Brazil)\n",
        "plt.subplot(224)\n",
        "plt.plot(x,active_rollavg.US,x,active_rollavg.India,x,active_rollavg.Italy,x,active_rollavg.Brazil)\n"
      ],
      "execution_count": null,
      "outputs": []
    },
    {
      "cell_type": "code",
      "metadata": {
        "id": "p8qHeyXU_uqE",
        "colab_type": "code",
        "colab": {}
      },
      "source": [
        "plt.figure(figsize = (20, 10))\n",
        "plt.subplot(221)\n",
        "plt.plot(x, conf_rollavg.US, '-o', x,death_rollavg.US, '-o',x,recov_rollavg.US, '-o')\n",
        "plt.text(50, 10000, 'US', size = 18)\n",
        "#plt.xlim(40, 65)\n",
        "plt.legend(['Confirmed', 'Death','Recovery'])\n",
        "plt.xlabel('Days', size = 16)\n",
        "plt.subplot(222)\n",
        "plt.plot(x, conf_rollavg.India, '-o', x, death_rollavg.India, '-o',x,recov_rollavg.US, '-o')\n",
        "plt.text(55, 10000, 'India', size = 18)\n",
        "#plt.xlim(20, 65)\n",
        "plt.legend(['Confirmed', 'Death','Recovery'])\n",
        "plt.xlabel('Days', size = 16)\n",
        "plt.subplot(223)\n",
        "plt.plot(x, conf_rollavg.Brazil, '-o', x, death_rollavg.Brazil, '-o',x,recov_rollavg.US, '-o')\n",
        "plt.text(55, 10000, 'Brazil', size = 18)\n",
        "#plt.xlim(30, 65)\n",
        "plt.legend(['Confirmed', 'Death','Recovery'])\n",
        "plt.subplot(224)\n",
        "plt.plot(x, conf_rollavg.Italy, '-o', x, death_rollavg.Italy, '-o',x,recov_rollavg.US, '-o')\n",
        "plt.text(55, 1000, 'Italy', size = 18)\n",
        "#plt.xlim(30, 65)\n",
        "plt.legend(['Confirmed', 'Death','Recovery'])\n",
        "plt.show()"
      ],
      "execution_count": null,
      "outputs": []
    },
    {
      "cell_type": "markdown",
      "metadata": {
        "id": "upror7XNqPz1",
        "colab_type": "text"
      },
      "source": [
        "COMPARING AMONG DIFFERENT COUNTRIES"
      ]
    },
    {
      "cell_type": "code",
      "metadata": {
        "id": "LZCT3wb_qeWT",
        "colab_type": "code",
        "colab": {}
      },
      "source": [
        "plt.figure(figsize = (20, 10))\n",
        "plt.subplot(221)\n",
        "plt.plot(x, conf_rollavg.US, '-o', x,conf_rollavg.India, '-o',\n",
        "         x,conf_rollavg.Brazil, '-o',x,conf_rollavg.Italy, '-o')\n",
        "plt.text(50, 10000, 'CONFIRMED', size = 18)\n",
        "#plt.xlim(40, 65)\n",
        "plt.legend(['US', 'INDIA','Brazil','Italy'])\n",
        "plt.xlabel('Days', size = 16)\n",
        "plt.subplot(222)\n",
        "plt.plot(x, recov_rollavg.US, '-o', x,recov_rollavg.India, '-o',\n",
        "         x,recov_rollavg.Brazil, '-o',x,recov_rollavg.Italy, '-o')\n",
        "plt.text(50, 10000, 'RECOVERED', size = 18)\n",
        "#plt.xlim(40, 65)\n",
        "plt.legend(['US', 'INDIA','Brazil','Italy'])\n",
        "plt.xlabel('Days', size = 16)\n",
        "plt.subplot(223)\n",
        "plt.plot(x, death_rollavg.US, '-o', x,death_rollavg.India, '-o',\n",
        "         x,death_rollavg.Brazil, '-o',x,death_rollavg.Italy, '-o')\n",
        "plt.text(50, 100, 'Death', size = 18)\n",
        "#plt.xlim(40, 65)\n",
        "plt.legend(['US', 'INDIA','Brazil','Italy'])\n",
        "plt.xlabel('Days', size = 16)\n",
        "plt.subplot(224)\n",
        "plt.plot(x, active_rollavg.US, '-o', x,active_rollavg.India, '-o',\n",
        "         x,active_rollavg.Brazil, '-o',x,active_rollavg.Italy, '-o')\n",
        "plt.text(50, 1000, 'ACTIVE', size = 18)\n",
        "#plt.xlim(40, 65)\n",
        "plt.legend(['US', 'INDIA','Brazil','Italy'])\n",
        "plt.xlabel('Days', size = 16)\n",
        "plt.show()"
      ],
      "execution_count": null,
      "outputs": []
    },
    {
      "cell_type": "code",
      "metadata": {
        "id": "PnRfmlHJvLcT",
        "colab_type": "code",
        "colab": {}
      },
      "source": [
        "plt.figure(figsize = (20, 10))\n",
        "plt.subplot(221)\n",
        "plt.semilogy(x, conf_rollavg.US, '-o', x,conf_rollavg.India, '-o',\n",
        "         x,conf_rollavg.Brazil, '-o',x,conf_rollavg.Italy, '-o')\n",
        "plt.text(50, 10000, 'CONFIRMED', size = 18)\n",
        "#plt.xlim(40, 65)\n",
        "plt.legend(['US', 'INDIA','Brazil','Italy'])\n",
        "plt.xlabel('Days', size = 16)\n",
        "plt.subplot(222)\n",
        "plt.semilogy(x, recov_rollavg.US, '-o', x,recov_rollavg.India, '-o',\n",
        "         x,recov_rollavg.Brazil, '-o',x,recov_rollavg.Italy, '-o')\n",
        "plt.text(50, 10000, 'RECOVERED', size = 18)\n",
        "#plt.xlim(40, 65)\n",
        "plt.legend(['US', 'INDIA','Brazil','Italy'])\n",
        "plt.xlabel('Days', size = 16)\n",
        "plt.subplot(223)\n",
        "plt.semilogy(x, death_rollavg.US, '-o', x,death_rollavg.India, '-o',\n",
        "         x,death_rollavg.Brazil, '-o',x,death_rollavg.Italy, '-o')\n",
        "plt.text(50, 100, 'Death', size = 18)\n",
        "#plt.xlim(40, 65)\n",
        "plt.legend(['US', 'INDIA','Brazil','Italy'])\n",
        "plt.xlabel('Days', size = 16)\n",
        "plt.subplot(224)\n",
        "plt.semilogy(x, active_rollavg.US, '-o', x,active_rollavg.India, '-o',\n",
        "         x,active_rollavg.Brazil, '-o',x,active_rollavg.Italy, '-o')\n",
        "plt.text(50, 1000, 'ACTIVE', size = 18)\n",
        "#plt.xlim(40, 65)\n",
        "plt.legend(['US', 'INDIA','Brazil','Italy'])\n",
        "plt.xlabel('Days', size = 16)\n",
        "plt.show()"
      ],
      "execution_count": null,
      "outputs": []
    },
    {
      "cell_type": "code",
      "metadata": {
        "id": "iswmpruNwHbG",
        "colab_type": "code",
        "colab": {}
      },
      "source": [
        "plt.figure(figsize = (20, 10))\n",
        "plt.subplot(221)\n",
        "plt.loglog(x, conf_rollavg.US, '-o', x,conf_rollavg.India, '-o',\n",
        "         x,conf_rollavg.Brazil, '-o',x,conf_rollavg.Italy, '-o')\n",
        "plt.text(50, 10000, 'CONFIRMED', size = 18)\n",
        "#plt.xlim(40, 65)\n",
        "plt.legend(['US', 'INDIA','Brazil','Italy'])\n",
        "plt.xlabel('Days', size = 16)\n",
        "plt.subplot(222)\n",
        "plt.loglog(x, recov_rollavg.US, '-o', x,recov_rollavg.India, '-o',\n",
        "         x,recov_rollavg.Brazil, '-o',x,recov_rollavg.Italy, '-o')\n",
        "plt.text(50, 10000, 'RECOVERED', size = 18)\n",
        "#plt.xlim(40, 65)\n",
        "plt.legend(['US', 'INDIA','Brazil','Italy'])\n",
        "plt.xlabel('Days', size = 16)\n",
        "plt.subplot(223)\n",
        "plt.loglog(x, death_rollavg.US, '-o', x,death_rollavg.India, '-o',\n",
        "         x,death_rollavg.Brazil, '-o',x,death_rollavg.Italy, '-o')\n",
        "plt.text(50, 100, 'Death', size = 18)\n",
        "#plt.xlim(40, 65)\n",
        "plt.legend(['US', 'INDIA','Brazil','Italy'])\n",
        "plt.xlabel('Days', size = 16)\n",
        "plt.subplot(224)\n",
        "plt.loglog(x, active_rollavg.US, '-o', x,active_rollavg.India, '-o',\n",
        "         x,active_rollavg.Brazil, '-o',x,active_rollavg.Italy, '-o')\n",
        "plt.text(50, 1000, 'ACTIVE', size = 18)\n",
        "#plt.xlim(40, 65)\n",
        "plt.legend(['US', 'INDIA','Brazil','Italy'])\n",
        "plt.xlabel('Days', size = 16)\n",
        "plt.show()"
      ],
      "execution_count": null,
      "outputs": []
    },
    {
      "cell_type": "code",
      "metadata": {
        "id": "WnjEpoAYyrhE",
        "colab_type": "code",
        "colab": {}
      },
      "source": [
        "simulated_growth_rate =.10\n",
        "dates=pd.date_range(start='06/11/2010',periods=40,freq='D')\n",
        "dates=pd.Series(dates)\n",
        "dates=dates.dt.strftime('%m/%d/%Y')\n",
        "simulated=confirmed.copy()\n",
        "simulated=simulated.append(pd.DataFrame(index=dates))\n",
        "\n",
        "for day in range(len(confirmed),len(confirmed)+40):\n",
        "     simulated.iloc[day]=(simulated.iloc[day-1])*(1+simulated_growth_rate)\n",
        "\n",
        "for country in countries:\n",
        "     simulated[country].plot(figsize=(10,10),label=country)\n",
        "     plt.legend(loc='upper left')\n",
        "     plt.show()"
      ],
      "execution_count": null,
      "outputs": []
    },
    {
      "cell_type": "code",
      "metadata": {
        "id": "GRJeBV86XSx-",
        "colab_type": "code",
        "colab": {}
      },
      "source": [
        "data_conf = pd.read_csv(confirmedlink)\n",
        "data_recov = pd.read_csv(recoveredlink)\n",
        "data_death = pd.read_csv(deathlink)\n",
        "\n",
        "L_conf = data_conf.values.tolist()\n",
        "L_recov = data_recov.values.tolist()\n",
        "L_death = data_death.values.tolist()\n",
        "data_conf.loc[data_conf['Country/Region'] == 'India']\n",
        "conf_india = L_conf[131] # INDIA\n",
        "recov_india = L_recov[125]\n",
        "death_india = L_death[131]\n",
        "conf_italy = L_conf[137] # ITALY\n",
        "recov_italy = L_recov[131]\n",
        "death_italy = L_death[137]\n",
        "conf_spain = L_conf[201] # Spain\n",
        "recov_spain = L_recov[199]\n",
        "death_spain = L_death[201]\n",
        "conf_us = L_conf[225] # UK\n",
        "recov_us = L_recov[225]\n",
        "death_us = L_death[225]\n",
        "days = range(len(conf_india))"
      ],
      "execution_count": null,
      "outputs": []
    },
    {
      "cell_type": "code",
      "metadata": {
        "id": "tbmpc1n3Xlev",
        "colab_type": "code",
        "colab": {}
      },
      "source": [
        "plt.figure(figsize = (10, 8))\n",
        "x = np.array(days[6:])\n",
        "plt.subplot(221)\n",
        "y = np.diff(np.array(conf_india[5:]))\n",
        "plt.plot(x, y, '-o')\n",
        "plt.xlabel('Days', size = 16)\n",
        "plt.subplot(222)\n",
        "y = np.diff(np.array(conf_italy[5:]))\n",
        "plt.plot(x, y, '-o')\n",
        "plt.xlabel('Days', size = 16)\n",
        "plt.subplot(223)\n",
        "y = np.diff(np.array(conf_spain[5:]))\n",
        "plt.plot(x, y, '-o')\n",
        "plt.subplot(224)\n",
        "y = np.diff(np.array(conf_us[5:]))\n",
        "plt.plot(x, y, '-o')\n",
        "plt.show()"
      ],
      "execution_count": null,
      "outputs": []
    },
    {
      "cell_type": "code",
      "metadata": {
        "id": "IBgAy_F2YAOf",
        "colab_type": "code",
        "colab": {}
      },
      "source": [
        "f_recov_india = np.array(recov_india[12:])/np.array(conf_india[12:], dtype = float)*100\n",
        "f_recov_italy = np.array(recov_italy[12:])/np.array(conf_italy[12:], dtype = float)*100\n",
        "f_recov_spain = np.array(recov_spain[12:])/np.array(conf_spain[12:], dtype = float)*100\n",
        "f_recov_us = np.array(recov_us[12:])/np.array(conf_us[12:], dtype = float)*100\n",
        "f_death_india = np.array(death_india[12:])/np.array(conf_india[12:], dtype = float)*100\n",
        "f_death_italy = np.array(death_italy[12:])/np.array(conf_italy[12:], dtype = float)*100\n",
        "f_death_spain = np.array(death_spain[12:])/np.array(conf_spain[12:], dtype = float)*100\n",
        "f_death_us = np.array(death_us[12:])/np.array(death_us[12:],dtype=float)*100\n"
      ],
      "execution_count": null,
      "outputs": []
    },
    {
      "cell_type": "code",
      "metadata": {
        "id": "11JKIQhiYHQQ",
        "colab_type": "code",
        "colab": {}
      },
      "source": [
        "plt.figure(figsize = (10, 8))\n",
        "plt.subplot(221)\n",
        "plt.plot(days[12:], f_death_india, '-o', days[12:], f_recov_india, '-o')\n",
        "plt.text(50, 80, 'INDIA', size = 18)\n",
        "plt.xlim(40, 65)\n",
        "plt.legend(['Death', 'Recovery'])\n",
        "plt.xlabel('Days', size = 16)\n",
        "plt.subplot(222)\n",
        "plt.plot(days[12:], f_death_italy, '-o', days[12:], f_recov_italy, '-o')\n",
        "plt.text(55, 2, 'ITALY', size = 18)\n",
        "plt.xlim(20, 65)\n",
        "plt.legend(['Death', 'Recovery'])\n",
        "plt.xlabel('Days', size = 16)\n",
        "plt.subplot(223)\n",
        "plt.plot(days[12:], f_death_spain, '-o', days[12:], f_recov_spain, '-o')\n",
        "plt.text(55, 50, 'SPAIN', size = 18)\n",
        "plt.xlim(30, 65)\n",
        "plt.legend(['Death', 'Recovery'])\n",
        "plt.subplot(224)\n",
        "plt.plot(days[12:], f_death_us, '-o', days[12:], f_recov_us, '-o')\n",
        "plt.text(55, 60, 'US', size = 18)\n",
        "plt.xlim(30, 65)\n",
        "plt.legend(['Death', 'Recovery'])\n",
        "plt.show()"
      ],
      "execution_count": null,
      "outputs": []
    },
    {
      "cell_type": "code",
      "metadata": {
        "id": "hT6D2l4canY8",
        "colab_type": "code",
        "colab": {}
      },
      "source": [
        "data_conf.loc[data_conf['Country/Region'] == 'China']\n",
        "\n",
        "plt.figure(figsize = (12, 8))\n",
        "for i in range(49, 81):\n",
        "    conf_china = L_conf[i]\n",
        "    plt.semilogy(days[5:], conf_china[5:], lw = 3)\n",
        "    plt.text(30, 25000, 'Wuhan(Hubei)', size = 18)\n",
        "    plt.title('CHINA: COVID-19 Confirmed Cases', size = 22)\n",
        "    plt.xlabel('Days', size = 18)\n",
        "    plt.tick_params(labelsize = 18)\n",
        "\n",
        "plt.figure(figsize = (12, 8))\n",
        "conf_china = L_conf[62]\n",
        "plt.semilogy(days[5:], conf_china[5:], '-o', lw = 3)\n",
        "plt.text(40, 20000, 'Wuhan(Hubei)', size = 18)\n",
        "plt.title('CHINA: COVID-19', size = 26)\n",
        "plt.xlabel('Days', size = 22)\n",
        "plt.ylabel('Confirmed Cases', size = 22)\n",
        "plt.tick_params(labelsize = 18)\n",
        "plt.show()\n",
        "\n",
        "for i in range(49, 81):\n",
        "    conf_china = L_conf[i]\n",
        "    plt.semilogy(days[5:], conf_china[5:], lw = 3)\n",
        "    \n",
        "for i in range(49,81):\n",
        "    conf_china = L_conf[i]\n",
        "    plt.semilogy(days[5:], conf_china[5:], lw = 3)\n",
        "for i in range(49,81):\n",
        "    conf_china = L_conf[i]\n",
        "    plt.semilogy(days[5:], conf_china[5:], lw = 3)\n"
      ],
      "execution_count": null,
      "outputs": []
    },
    {
      "cell_type": "code",
      "metadata": {
        "id": "D4v7-YVrazlr",
        "colab_type": "code",
        "colab": {}
      },
      "source": [
        "data=data_conf.groupby('Country/Region').sum()\n",
        "data_transposed=data.T\n",
        "data_transposed.plot(y=['India','US','Brazil','Italy'],use_index=True,figsize=(15,10),\n",
        "                     marker='o')"
      ],
      "execution_count": null,
      "outputs": []
    },
    {
      "cell_type": "code",
      "metadata": {
        "id": "44sCtWxebKxZ",
        "colab_type": "code",
        "colab": {}
      },
      "source": [
        "L_conf = data_conf.values.tolist()\n",
        "L_recov = data_recov.values.tolist()\n",
        "L_death = data_death.values.tolist()"
      ],
      "execution_count": null,
      "outputs": []
    },
    {
      "cell_type": "code",
      "metadata": {
        "id": "881pK6KPbNVK",
        "colab_type": "code",
        "colab": {}
      },
      "source": [
        "recov_india = L_recov[125]\n",
        "death_india = L_death[131]"
      ],
      "execution_count": null,
      "outputs": []
    },
    {
      "cell_type": "code",
      "metadata": {
        "id": "KJOqHTfhba_Y",
        "colab_type": "code",
        "colab": {}
      },
      "source": [
        "data_conf.loc[data_conf['Country/Region'] == 'India']\n",
        "data_death.loc[data_death['Country/Region'] == 'India']\n",
        "data_recov.loc[data_recov['Country/Region'] == 'India']\n",
        "conf_india = L_conf[131] # INDIA\n",
        "recov_india = L_recov[125]\n",
        "death_india = L_death[131]"
      ],
      "execution_count": null,
      "outputs": []
    },
    {
      "cell_type": "code",
      "metadata": {
        "id": "cE0mhIuFbmn5",
        "colab_type": "code",
        "colab": {}
      },
      "source": [
        "data_conf.loc[data_conf['Country/Region'] == 'India']"
      ],
      "execution_count": null,
      "outputs": []
    },
    {
      "cell_type": "code",
      "metadata": {
        "id": "4WMesxcWbdMy",
        "colab_type": "code",
        "colab": {}
      },
      "source": [
        "import seaborn as sns\n",
        "import pandas as pd\n",
        "import numpy as np\n",
        "import plotly.graph_objects as go\n",
        "import plotly.express as px"
      ],
      "execution_count": null,
      "outputs": []
    },
    {
      "cell_type": "code",
      "metadata": {
        "id": "WR_e-Cvtb4LP",
        "colab_type": "code",
        "colab": {}
      },
      "source": [
        "confimedcaseslink = \"https://raw.githubusercontent.com/CSSEGISandData/COVID-19/master/csse_covid_19_data/csse_covid_19_time_series/time_series_covid19_confirmed_global.csv\"\n",
        "deathcaseslink = \"https://raw.githubusercontent.com/CSSEGISandData/COVID-19/master/csse_covid_19_data/csse_covid_19_time_series/time_series_covid19_deaths_global.csv\"\n",
        "recoveredcaseslink = \"https://raw.githubusercontent.com/CSSEGISandData/COVID-19/master/csse_covid_19_data/csse_covid_19_time_series/time_series_covid19_recovered_global.csv\"\n",
        "countrycaseslink = \"https://raw.githubusercontent.com/CSSEGISandData/COVID-19/web-data/data/cases_country.csv\""
      ],
      "execution_count": null,
      "outputs": []
    },
    {
      "cell_type": "code",
      "metadata": {
        "id": "9R8LC-mrcsvP",
        "colab_type": "code",
        "colab": {}
      },
      "source": [
        "confirmed_df = pd.read_csv(confimedcaseslink)\n",
        "print(confirmed_df.shape)\n",
        "deaths_df = pd.read_csv(deathcaseslink)\n",
        "print(deaths_df.shape)\n",
        "recovered_df = pd.read_csv(recoveredcaseslink)\n",
        "print(recovered_df.shape)\n",
        "cases_country_df = pd.read_csv(countrycaseslink)\n",
        "print(cases_country_df.shape)"
      ],
      "execution_count": null,
      "outputs": []
    },
    {
      "cell_type": "code",
      "metadata": {
        "id": "iiACEBq6c4Y7",
        "colab_type": "code",
        "colab": {}
      },
      "source": [
        "confirmed_df = confirmed_df.replace(np.nan, '', regex=True)\n",
        "deaths_df = deaths_df.replace(np.nan, '', regex=True)\n",
        "recovered_df = recovered_df.replace(np.nan, '', regex=True)\n",
        "cases_country_df = cases_country_df.replace(np.nan, '', regex=True)"
      ],
      "execution_count": null,
      "outputs": []
    },
    {
      "cell_type": "code",
      "metadata": {
        "id": "Jvhc3gXMc_99",
        "colab_type": "code",
        "colab": {}
      },
      "source": [
        "global_data = cases_country_df.copy().drop(['Lat','Long_','Country_Region','Last_Update'],axis =1)\n",
        "global_summary = pd.DataFrame(global_data.sum()).transpose()\n",
        "global_summary.style.format(':,.0f')"
      ],
      "execution_count": null,
      "outputs": []
    },
    {
      "cell_type": "code",
      "metadata": {
        "id": "kBhozpRCdLuI",
        "colab_type": "code",
        "colab": {}
      },
      "source": [
        "confirmed_ts = confirmed_df.copy().drop(['Lat','Long','Country/Region','Province/State'],axis =1)\n",
        "confirmed_ts_summary = confirmed_ts.sum()"
      ],
      "execution_count": null,
      "outputs": []
    },
    {
      "cell_type": "code",
      "metadata": {
        "id": "gY_rgaRQdNrO",
        "colab_type": "code",
        "colab": {}
      },
      "source": [
        "fig_1 = go.Figure(data=go.Scatter(x=confirmed_ts_summary.index, y = confirmed_ts_summary.values, mode='lines+markers'))\n",
        "fig_1.update_layout(title='Total Coronavirus Confirmed Cases (Globally)',\n",
        "                  yaxis_title='Confirmed Cases', xaxis_tickangle = 315 )\n",
        "fig_1.show()"
      ],
      "execution_count": null,
      "outputs": []
    },
    {
      "cell_type": "markdown",
      "metadata": {
        "id": "-1aukL3SeIRq",
        "colab_type": "text"
      },
      "source": [
        "INDIAN RECENT CASES"
      ]
    },
    {
      "cell_type": "code",
      "metadata": {
        "id": "fd24EmP9eLcZ",
        "colab_type": "code",
        "colab": {}
      },
      "source": [
        "import pandas as pd\n",
        "import matplotlib.pyplot as plt\n",
        "from matplotlib import style\n",
        "style.use('ggplot')\n",
        "%matplotlib inline\n",
        "import plotly\n",
        "import plotly.express as px\n",
        "import plotly.graph_objects as go\n",
        "plt.rcParams['figure.figsize']=17,8\n",
        "import cufflinks as cf\n",
        "import plotly.offline as pyo\n",
        "from plotly.offline import init_notebook_mode,plot,iplot\n",
        "import folium"
      ],
      "execution_count": null,
      "outputs": []
    },
    {
      "cell_type": "code",
      "metadata": {
        "id": "HRI-87G3ePdT",
        "colab_type": "code",
        "colab": {}
      },
      "source": [
        "df=pd.read_excel('/content/coronaindia7thaugust.xlsx')"
      ],
      "execution_count": null,
      "outputs": []
    },
    {
      "cell_type": "code",
      "metadata": {
        "id": "jTTdtjSbePq8",
        "colab_type": "code",
        "colab": {}
      },
      "source": [
        "df"
      ],
      "execution_count": null,
      "outputs": []
    },
    {
      "cell_type": "code",
      "metadata": {
        "id": "k8pupdghg9nP",
        "colab_type": "code",
        "colab": {}
      },
      "source": [
        "df.drop(['S.No.'],axis=1,inplace=True)"
      ],
      "execution_count": null,
      "outputs": []
    },
    {
      "cell_type": "code",
      "metadata": {
        "id": "d6PYKCpjeP58",
        "colab_type": "code",
        "colab": {}
      },
      "source": [
        "df"
      ],
      "execution_count": null,
      "outputs": []
    },
    {
      "cell_type": "code",
      "metadata": {
        "id": "sDIMKujthIZB",
        "colab_type": "code",
        "colab": {}
      },
      "source": [
        "total_cases_overall=df['Totalactive'].sum()\n",
        "print('The total number of cases till now in India is ',total_cases_overall)"
      ],
      "execution_count": null,
      "outputs": []
    },
    {
      "cell_type": "code",
      "metadata": {
        "id": "aD8PdWDieQH2",
        "colab_type": "code",
        "colab": {}
      },
      "source": [
        "df.style.background_gradient(cmap='Reds')"
      ],
      "execution_count": null,
      "outputs": []
    },
    {
      "cell_type": "code",
      "metadata": {
        "id": "RlHhvd08iU7l",
        "colab_type": "code",
        "colab": {}
      },
      "source": [
        "Total_Active_Cases=df.groupby('Name of State/UT')['Totalactive'].sum().sort_values(ascending=False).to_frame()"
      ],
      "execution_count": null,
      "outputs": []
    },
    {
      "cell_type": "code",
      "metadata": {
        "id": "yDPU3cUSicqe",
        "colab_type": "code",
        "colab": {}
      },
      "source": [
        "Total_Active_Cases"
      ],
      "execution_count": null,
      "outputs": []
    },
    {
      "cell_type": "code",
      "metadata": {
        "id": "yvhu3o4kilJH",
        "colab_type": "code",
        "colab": {}
      },
      "source": [
        "Total_Active_Cases.style.background_gradient(cmap='Reds')"
      ],
      "execution_count": null,
      "outputs": []
    },
    {
      "cell_type": "code",
      "metadata": {
        "id": "lRexQ6_0i_zA",
        "colab_type": "code",
        "colab": {}
      },
      "source": [
        "!pip install chart_studio"
      ],
      "execution_count": null,
      "outputs": []
    },
    {
      "cell_type": "code",
      "metadata": {
        "id": "QJ5vS_8UisW0",
        "colab_type": "code",
        "colab": {}
      },
      "source": [
        "#Pandas vis\n",
        "plt.figure(figsize=(12,10))\n",
        "df.plot(kind='bar',x='Name of State/UT',y='Totalactive')\n",
        "plt.show()\n",
        "\n"
      ],
      "execution_count": null,
      "outputs": []
    },
    {
      "cell_type": "code",
      "metadata": {
        "id": "-mGPpQZt1__u",
        "colab_type": "code",
        "colab": {}
      },
      "source": [
        ""
      ],
      "execution_count": null,
      "outputs": []
    },
    {
      "cell_type": "code",
      "metadata": {
        "id": "MHnBIAD51hJa",
        "colab_type": "code",
        "colab": {}
      },
      "source": [
        "#plotly\n",
        "#df.iplot(kind='bar',x='Name of State/UT',y='Totalactive')"
      ],
      "execution_count": null,
      "outputs": []
    },
    {
      "cell_type": "code",
      "metadata": {
        "id": "0A3yIsYq0qPZ",
        "colab_type": "code",
        "colab": {}
      },
      "source": [
        "px.bar(df,x='Name of State/UT',y='Totalactive')"
      ],
      "execution_count": null,
      "outputs": []
    },
    {
      "cell_type": "code",
      "metadata": {
        "id": "WdFXe31Mqtjl",
        "colab_type": "code",
        "colab": {}
      },
      "source": [
        ""
      ],
      "execution_count": null,
      "outputs": []
    },
    {
      "cell_type": "code",
      "metadata": {
        "id": "coVaxC5-2G0_",
        "colab_type": "code",
        "colab": {}
      },
      "source": [
        "df.plot(kind='scatter',x='Name of State/UT',y='Totalactive')"
      ],
      "execution_count": null,
      "outputs": []
    },
    {
      "cell_type": "code",
      "metadata": {
        "id": "1zAWSzas2y-j",
        "colab_type": "code",
        "colab": {}
      },
      "source": [
        "plt.scatter(df['Name of State/UT'],df['Totalactive'])"
      ],
      "execution_count": null,
      "outputs": []
    },
    {
      "cell_type": "code",
      "metadata": {
        "id": "R80tNM9u3jU7",
        "colab_type": "code",
        "colab": {}
      },
      "source": [
        "#df.iplot(kind='scatter',x='Name of State / UT',y='Totalactive',mode='markers+lines',title='My Graph',xTitle='Name of State / UT',yTitle='Total Cases',colors='red',size=20)\n",
        "px.scatter(df,x='Name of State/UT',y='Totalactive')"
      ],
      "execution_count": null,
      "outputs": []
    },
    {
      "cell_type": "code",
      "metadata": {
        "id": "_0VN9_Xu3yWE",
        "colab_type": "code",
        "colab": {}
      },
      "source": [
        "#Matplotlib\n",
        "fig=plt.figure(figsize=(20,10),dpi=200)\n",
        "axes=fig.add_axes([0,0,1,1])\n",
        "axes.bar(df['Name of State/UT'],df['Totalactive'])\n",
        "axes.set_title(\"Total Cases in India\")\n",
        "axes.set_xlabel(\"Name of State/UT\")\n",
        "axes.set_ylabel(\"Totalactive\")\n",
        "plt.show()\n"
      ],
      "execution_count": null,
      "outputs": []
    },
    {
      "cell_type": "code",
      "metadata": {
        "id": "QdXqcCuW4Aju",
        "colab_type": "code",
        "colab": {}
      },
      "source": [
        "#plotly\n",
        "fig=go.Figure()\n",
        "fig.add_trace(go.Bar(x=df['Name of State/UT'],y=df['Totalactive']))\n",
        "fig.update_layout(title='Total Cases in India',xaxis=dict(title='Name of State/UT'),yaxis=dict(title='Total Cases'))"
      ],
      "execution_count": null,
      "outputs": []
    },
    {
      "cell_type": "code",
      "metadata": {
        "id": "10m25QXa4LAN",
        "colab_type": "code",
        "colab": {}
      },
      "source": [
        "#plotly\n",
        "fig=go.Figure()\n",
        "fig.add_trace(go.Bar(x=df['Name of State/UT'],y=df['Totalactive']))\n",
        "fig.update_layout(title='Total Cases in India',xaxis=dict(title='Name of State/UT'),yaxis=dict(title='Total Cases'))"
      ],
      "execution_count": null,
      "outputs": []
    },
    {
      "cell_type": "code",
      "metadata": {
        "id": "0wi-2qFE6bpi",
        "colab_type": "code",
        "colab": {}
      },
      "source": [
        "Indian_Cord=pd.read_excel('/content/Indian Coordinates.xlsx')\n"
      ],
      "execution_count": null,
      "outputs": []
    },
    {
      "cell_type": "code",
      "metadata": {
        "id": "CPsn7w5968PG",
        "colab_type": "code",
        "colab": {}
      },
      "source": [
        "Indian_Cord"
      ],
      "execution_count": null,
      "outputs": []
    },
    {
      "cell_type": "code",
      "metadata": {
        "id": "yFciiMnq9wGQ",
        "colab_type": "code",
        "colab": {}
      },
      "source": [
        "#df_full=pd.merge(Indian_Cord,df,on='Name of State/UT')\n",
        "#Points=Indian_Cord.apply(lambda row: row.Latitude,row.Longitude)\n"
      ],
      "execution_count": null,
      "outputs": []
    },
    {
      "cell_type": "code",
      "metadata": {
        "id": "WgvfgehgBX1H",
        "colab_type": "code",
        "colab": {}
      },
      "source": [
        "map=folium.Map(location=[20,70],zoom_start=4,tiles='Stamenterrain')\n",
        "\n",
        "for lat,long,value, name in zip(Indian_Cord['Latitude'],Indian_Cord['Longitude'],df['Totalactive'],df['Name of State/UT']):\n",
        "    folium.CircleMarker([lat,long],radius=value*0.8,popup=('<strong>State</strong>: '+str(name).capitalize()+'<br>''<strong>Total Cases</strong>: ' + str(value)+ '<br>'),color='red',fill_color='red',fill_opacity=0.3).add_to(map)\n",
        "    "
      ],
      "execution_count": null,
      "outputs": []
    },
    {
      "cell_type": "code",
      "metadata": {
        "id": "Eiq680PZCOba",
        "colab_type": "code",
        "colab": {}
      },
      "source": [
        "dbd_India=pd.read_excel(r'/content/per_day_cases.xlsx',parse_dates=True,sheet_name=\"India\")\n",
        "dbd_Italy=pd.read_excel(r'/content/per_day_cases.xlsx',parse_dates=True,sheet_name=\"Italy\")\n",
        "dbd_Korea=pd.read_excel(r\"/content/per_day_cases.xlsx\",parse_dates=True,sheet_name=\"Korea\")\n",
        "dbd_Wuhan=pd.read_excel(r\"/content/per_day_cases.xlsx\",parse_dates=True,sheet_name=\"Wuhan\")"
      ],
      "execution_count": null,
      "outputs": []
    },
    {
      "cell_type": "code",
      "metadata": {
        "id": "8KYNBDLN-C9E",
        "colab_type": "code",
        "colab": {}
      },
      "source": [
        "dbd_India"
      ],
      "execution_count": null,
      "outputs": []
    },
    {
      "cell_type": "code",
      "metadata": {
        "id": "KvKhF7VbDK4L",
        "colab_type": "code",
        "colab": {}
      },
      "source": [
        "#Matplotlib\n",
        "fig=plt.figure(figsize=(10,5),dpi=200)\n",
        "axes=fig.add_axes([0.1,0.1,0.8,0.8])\n",
        "axes.bar(dbd_India[\"Date\"],dbd_India[\"Total Cases\"],color='blue')\n",
        "axes.set_xlabel(\"Date\")\n",
        "axes.set_ylabel(\"Total Cases\")\n",
        "axes.set_title(\"Confirmed cases in India\")\n",
        "plt.show()"
      ],
      "execution_count": null,
      "outputs": []
    },
    {
      "cell_type": "code",
      "metadata": {
        "id": "RZCJ-hetFGK0",
        "colab_type": "code",
        "colab": {}
      },
      "source": [
        "confirmed_India_ts = confirmed_df[confirmed_df['Country/Region']==\"India\"]\n",
        "confirmed_India_ts = confirmed_India_ts.drop(\n",
        "    ['Lat','Long','Country/Region','Province/State'],axis =1).reset_index(drop=True).sum()\n",
        "\n",
        "deaths_India_ts = deaths_df[deaths_df['Country/Region']==\"India\"]\n",
        "deaths_India_ts = deaths_India_ts.drop(\n",
        "    ['Lat','Long','Country/Region','Province/State'],axis =1).reset_index(drop=True).sum()\n",
        "\n",
        "recovered_India_ts = recovered_df[recovered_df['Country/Region']==\"India\"]\n",
        "recovered_India_ts = recovered_India_ts.drop(\n",
        "    ['Lat','Long','Country/Region','Province/State'],axis =1).reset_index(drop=True).sum()\n",
        "\n",
        "active_India_ts = pd.Series(\n",
        "    data=np.array(\n",
        "        [x1 - x2 - x3  for (x1, x2, x3) in zip(\n",
        "            confirmed_India_ts.values,deaths_India_ts.values, recovered_India_ts.values)\n",
        "        ] \n",
        "    ), \n",
        "    index= confirmed_India_ts.index\n",
        ")"
      ],
      "execution_count": null,
      "outputs": []
    },
    {
      "cell_type": "code",
      "metadata": {
        "id": "9V9GTmIVHrC7",
        "colab_type": "code",
        "colab": {}
      },
      "source": [
        "#Matplotlib\n",
        "fig=plt.figure(figsize=(10,5),dpi=200)\n",
        "axes=fig.add_axes([0.1,0.1,0.8,0.8])\n",
        "axes.bar(dbd_India[\"Date\"],dbd_India[\"Total Cases\"],color='blue')\n",
        "axes.set_xlabel(\"Date\")\n",
        "axes.set_ylabel(\"Total Cases\")\n",
        "axes.set_title(\"Confirmed cases in India\")\n",
        "plt.show()"
      ],
      "execution_count": null,
      "outputs": []
    },
    {
      "cell_type": "code",
      "metadata": {
        "id": "CEYe6gbwRwl_",
        "colab_type": "code",
        "colab": {}
      },
      "source": [
        "!pip install geopandas"
      ],
      "execution_count": null,
      "outputs": []
    },
    {
      "cell_type": "code",
      "metadata": {
        "id": "1s202UuwG-Ti",
        "colab_type": "code",
        "colab": {}
      },
      "source": [
        "import pandas as pd\n",
        "import numpy as np\n",
        "import matplotlib.pyplot as plt\n",
        "import geopandas as gpd\n",
        "from shapely.geometry import Point,Polygon\n",
        "import descartes\n"
      ],
      "execution_count": null,
      "outputs": []
    },
    {
      "cell_type": "code",
      "metadata": {
        "id": "v62_-EZ7GzMd",
        "colab_type": "code",
        "colab": {}
      },
      "source": [
        "!pwd\n",
        "#df=pd.read_csv(https://www.kaggle.com/imdevskp/corona-virus-report#covid19_clean_complete.csv)"
      ],
      "execution_count": null,
      "outputs": []
    },
    {
      "cell_type": "code",
      "metadata": {
        "id": "S26wKGI-ZaIk",
        "colab_type": "code",
        "colab": {}
      },
      "source": [
        "df=pd.read_csv('/content/covid_19_clean_complete.csv')"
      ],
      "execution_count": null,
      "outputs": []
    },
    {
      "cell_type": "code",
      "metadata": {
        "id": "TDQ3aWwdaw6H",
        "colab_type": "code",
        "colab": {}
      },
      "source": [
        "df"
      ],
      "execution_count": null,
      "outputs": []
    },
    {
      "cell_type": "code",
      "metadata": {
        "id": "HM0rooTia1cm",
        "colab_type": "code",
        "colab": {}
      },
      "source": [
        "df.columns"
      ],
      "execution_count": null,
      "outputs": []
    },
    {
      "cell_type": "code",
      "metadata": {
        "id": "kMVX6hucbCiV",
        "colab_type": "code",
        "colab": {}
      },
      "source": [
        "df.isna().sum()"
      ],
      "execution_count": null,
      "outputs": []
    },
    {
      "cell_type": "code",
      "metadata": {
        "id": "zS1UyQ5fbOyU",
        "colab_type": "code",
        "colab": {}
      },
      "source": [
        "df.describe()"
      ],
      "execution_count": null,
      "outputs": []
    },
    {
      "cell_type": "code",
      "metadata": {
        "id": "bYqp3QcvbZAy",
        "colab_type": "code",
        "colab": {}
      },
      "source": [
        "df.groupby('Date')['Confirmed','Deaths','Recovered'].sum()"
      ],
      "execution_count": null,
      "outputs": []
    },
    {
      "cell_type": "code",
      "metadata": {
        "id": "OJ4tqpnFeYZ6",
        "colab_type": "code",
        "colab": {}
      },
      "source": [
        "df_per_day=df.groupby('Date')['Confirmed','Deaths','Recovered'].max()"
      ],
      "execution_count": null,
      "outputs": []
    },
    {
      "cell_type": "code",
      "metadata": {
        "id": "HPT9khIcewTv",
        "colab_type": "code",
        "colab": {}
      },
      "source": [
        "df_per_day['Confirmed'].max()"
      ],
      "execution_count": null,
      "outputs": []
    },
    {
      "cell_type": "code",
      "metadata": {
        "id": "DhXsVGkhe80y",
        "colab_type": "code",
        "colab": {}
      },
      "source": [
        "df.groupby(['Country/Region'])['Confirmed','Deaths','Recovered']"
      ],
      "execution_count": null,
      "outputs": []
    },
    {
      "cell_type": "code",
      "metadata": {
        "id": "vv7d_HbcfQY-",
        "colab_type": "code",
        "colab": {}
      },
      "source": [
        "df['Country/Region'].value_counts().plot(kind='bar',figsize=(10,10))"
      ],
      "execution_count": null,
      "outputs": []
    },
    {
      "cell_type": "code",
      "metadata": {
        "id": "h3mdC9Jzfpn1",
        "colab_type": "code",
        "colab": {}
      },
      "source": [
        "df['Country/Region'].unique()"
      ],
      "execution_count": null,
      "outputs": []
    },
    {
      "cell_type": "code",
      "metadata": {
        "id": "fhIagKiZfy54",
        "colab_type": "code",
        "colab": {}
      },
      "source": [
        "gdf01=gpd.GeoDataFrame(df,geometry=gpd.points_from_xy(df['Long'],df['Lat']))"
      ],
      "execution_count": null,
      "outputs": []
    },
    {
      "cell_type": "code",
      "metadata": {
        "id": "FQxh_0_ygZOF",
        "colab_type": "code",
        "colab": {}
      },
      "source": [
        "points=[Point(x,y) for x,y in zip(df.Long,df.Lat)]"
      ],
      "execution_count": null,
      "outputs": []
    },
    {
      "cell_type": "code",
      "metadata": {
        "id": "z-RvkakegqXX",
        "colab_type": "code",
        "colab": {}
      },
      "source": [
        "points"
      ],
      "execution_count": null,
      "outputs": []
    },
    {
      "cell_type": "code",
      "metadata": {
        "id": "qWW3621Xguyi",
        "colab_type": "code",
        "colab": {}
      },
      "source": [
        "gdf03=gpd.GeoDataFrame(df['geometry'])"
      ],
      "execution_count": null,
      "outputs": []
    },
    {
      "cell_type": "markdown",
      "metadata": {
        "id": "5Dnxnp30gejG",
        "colab_type": "text"
      },
      "source": [
        ""
      ]
    },
    {
      "cell_type": "code",
      "metadata": {
        "id": "FZyVB8HRhKLz",
        "colab_type": "code",
        "colab": {}
      },
      "source": [
        "gdf01.plot(figsize=(20,10))"
      ],
      "execution_count": null,
      "outputs": []
    },
    {
      "cell_type": "code",
      "metadata": {
        "id": "WE1J9Rrwhwf0",
        "colab_type": "code",
        "colab": {}
      },
      "source": [
        "world=gpd.read_file(gpd.datasets.get_path('naturalearth_lowres'))"
      ],
      "execution_count": null,
      "outputs": []
    },
    {
      "cell_type": "code",
      "metadata": {
        "id": "RIT6-YWGiIF0",
        "colab_type": "code",
        "colab": {}
      },
      "source": [
        "ax=world.plot(figsize=(20,10))"
      ],
      "execution_count": null,
      "outputs": []
    },
    {
      "cell_type": "code",
      "metadata": {
        "id": "miJ4CF_6iTjn",
        "colab_type": "code",
        "colab": {}
      },
      "source": [
        "ax.axis('off')"
      ],
      "execution_count": null,
      "outputs": []
    },
    {
      "cell_type": "code",
      "metadata": {
        "id": "puj1gX0piVIc",
        "colab_type": "code",
        "colab": {}
      },
      "source": [
        "fig,ax=plt.subplots(figsize=(20,10))"
      ],
      "execution_count": null,
      "outputs": []
    },
    {
      "cell_type": "code",
      "metadata": {
        "id": "X6BuThp0inC1",
        "colab_type": "code",
        "colab": {}
      },
      "source": [
        "gdf01.plot(cmap='Purples',ax=ax)"
      ],
      "execution_count": null,
      "outputs": []
    },
    {
      "cell_type": "code",
      "metadata": {
        "id": "TLM_g8Fsi2UT",
        "colab_type": "code",
        "colab": {}
      },
      "source": [
        "world.geometry.boundary.plot(color=None,edgecolor='k',linewidth=2,ax=ax)"
      ],
      "execution_count": null,
      "outputs": []
    },
    {
      "cell_type": "code",
      "metadata": {
        "id": "yV98VU2vjTFC",
        "colab_type": "code",
        "colab": {}
      },
      "source": [
        "fig.show()"
      ],
      "execution_count": null,
      "outputs": []
    },
    {
      "cell_type": "code",
      "metadata": {
        "id": "m6RFSCX3jbL6",
        "colab_type": "code",
        "colab": {}
      },
      "source": [
        "asia=world[world['continent']=='Asia']"
      ],
      "execution_count": null,
      "outputs": []
    },
    {
      "cell_type": "code",
      "metadata": {
        "id": "HopGnGBhjsIe",
        "colab_type": "code",
        "colab": {}
      },
      "source": [
        "asia.plot()"
      ],
      "execution_count": null,
      "outputs": []
    },
    {
      "cell_type": "code",
      "metadata": {
        "id": "Yn3hyqKIjxlK",
        "colab_type": "code",
        "colab": {}
      },
      "source": [
        "gdf03.plot()"
      ],
      "execution_count": null,
      "outputs": []
    },
    {
      "cell_type": "code",
      "metadata": {
        "id": "Xxri2hEJkQKd",
        "colab_type": "code",
        "colab": {}
      },
      "source": [
        "#Removing any region\n",
        "#world=world[world['name']!='Antarctica']"
      ],
      "execution_count": null,
      "outputs": []
    },
    {
      "cell_type": "code",
      "metadata": {
        "id": "bi3Ah6Kzlpb9",
        "colab_type": "code",
        "colab": {}
      },
      "source": [
        "world.plot(column='name',cmap='jet')"
      ],
      "execution_count": null,
      "outputs": []
    },
    {
      "cell_type": "code",
      "metadata": {
        "id": "EAyPFsGIkrXu",
        "colab_type": "code",
        "colab": {}
      },
      "source": [
        "world.plot()"
      ],
      "execution_count": null,
      "outputs": []
    },
    {
      "cell_type": "code",
      "metadata": {
        "id": "Z4tczbitmipo",
        "colab_type": "code",
        "colab": {}
      },
      "source": [
        "current_crs=world.crs"
      ],
      "execution_count": null,
      "outputs": []
    },
    {
      "cell_type": "code",
      "metadata": {
        "id": "cTMT6D94mtKl",
        "colab_type": "code",
        "colab": {}
      },
      "source": [
        "world.to_crs(epsg='3857',inplace=True)"
      ],
      "execution_count": null,
      "outputs": []
    },
    {
      "cell_type": "code",
      "metadata": {
        "id": "X_R_u0yym5nb",
        "colab_type": "code",
        "colab": {}
      },
      "source": [
        "world.plot(figsize=(20,10))"
      ],
      "execution_count": null,
      "outputs": []
    },
    {
      "cell_type": "code",
      "metadata": {
        "id": "IqB2dcm1nESY",
        "colab_type": "code",
        "colab": {}
      },
      "source": [
        "world['area']=world.area/10000"
      ],
      "execution_count": null,
      "outputs": []
    },
    {
      "cell_type": "code",
      "metadata": {
        "id": "HOdO2mDanQu2",
        "colab_type": "code",
        "colab": {}
      },
      "source": [
        "world.plot(column='area',cmap='hsv',legend=True,figsize=(20,10))"
      ],
      "execution_count": null,
      "outputs": []
    },
    {
      "cell_type": "code",
      "metadata": {
        "id": "wgeupNg3oAWt",
        "colab_type": "code",
        "colab": {}
      },
      "source": [
        "gdf03"
      ],
      "execution_count": null,
      "outputs": []
    },
    {
      "cell_type": "code",
      "metadata": {
        "id": "FJHwwohroCPl",
        "colab_type": "code",
        "colab": {}
      },
      "source": [
        ""
      ],
      "execution_count": null,
      "outputs": []
    },
    {
      "cell_type": "code",
      "metadata": {
        "id": "-rqlBe7in4Qe",
        "colab_type": "code",
        "colab": {}
      },
      "source": [
        ""
      ],
      "execution_count": null,
      "outputs": []
    },
    {
      "cell_type": "code",
      "metadata": {
        "id": "135QgahBneQx",
        "colab_type": "code",
        "colab": {}
      },
      "source": [
        "gdf03"
      ],
      "execution_count": null,
      "outputs": []
    },
    {
      "cell_type": "code",
      "metadata": {
        "id": "Rdj_5eCRm9Jo",
        "colab_type": "code",
        "colab": {}
      },
      "source": [
        "df"
      ],
      "execution_count": null,
      "outputs": []
    }
  ]
}