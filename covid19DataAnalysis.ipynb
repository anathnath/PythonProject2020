{
  "nbformat": 4,
  "nbformat_minor": 0,
  "metadata": {
    "colab": {
      "name": "Untitled7.ipynb",
      "provenance": [],
      "private_outputs": true,
      "authorship_tag": "ABX9TyO83/ORqErJYoeKzIS/+zSj",
      "include_colab_link": true
    },
    "kernelspec": {
      "name": "python3",
      "display_name": "Python 3"
    }
  },
  "cells": [
    {
      "cell_type": "markdown",
      "metadata": {
        "id": "view-in-github",
        "colab_type": "text"
      },
      "source": [
        "<a href=\"https://colab.research.google.com/github/anathnath/PythonProject2020/blob/master/covid19DataAnalysis.ipynb\" target=\"_parent\"><img src=\"https://colab.research.google.com/assets/colab-badge.svg\" alt=\"Open In Colab\"/></a>"
      ]
    },
    {
      "cell_type": "code",
      "metadata": {
        "id": "4mshXeUUuMYL",
        "colab_type": "code",
        "colab": {}
      },
      "source": [
        "import pandas as pd\n",
        "import numpy as np\n",
        "import matplotlib.pyplot as plt\n",
        "#import seaborn as sns\n",
        "#import geopandas as gpd\n",
        "#from shapely.geometry import  Point, Polygon\n",
        "confirmed=pd.read_csv(r'/content/time_series_covid19_confirmed_global.csv')\n",
        "#df.columns=df.columns.str.replace(r'\\n',\" regex=True)\n",
        "#df.rename(columns={'Province/State':'Province_State',\n",
        "#           'Country/Region':'Country_Region'}, inplace=True)\n",
        "recovered=pd.read_csv(r'/content/time_series_covid19_recovered_global.csv')\n",
        "death=pd.read_csv(r'/content/time_series_covid19_deaths_global.csv')\n",
        "confirmed=confirmed.drop(['Province/State','Lat','Long'], axis=1)\n",
        "death=death.drop(['Province/State','Lat','Long'], axis=1)\n",
        "recovered=recovered.drop(['Province/State','Lat','Long'], axis=1)\n"
      ],
      "execution_count": null,
      "outputs": []
    },
    {
      "cell_type": "markdown",
      "metadata": {
        "id": "atRYOdxOu0X5",
        "colab_type": "text"
      },
      "source": [
        "# New Section"
      ]
    },
    {
      "cell_type": "code",
      "metadata": {
        "id": "FNeJUpCFvcQz",
        "colab_type": "code",
        "colab": {}
      },
      "source": [
        "confirmed=confirmed.groupby(confirmed['Country/Region']).sum()\n",
        "death=death.groupby(death['Country/Region']).sum()\n",
        "recovered=recovered.groupby(recovered['Country/Region']).sum()\n"
      ],
      "execution_count": null,
      "outputs": []
    },
    {
      "cell_type": "code",
      "metadata": {
        "id": "pQYHIcWHxL2w",
        "colab_type": "code",
        "colab": {}
      },
      "source": [
        "confirmed=confirmed.T\n",
        "death=death.T\n",
        "recovered=recovered.T\n"
      ],
      "execution_count": null,
      "outputs": []
    },
    {
      "cell_type": "code",
      "metadata": {
        "id": "9BLAPN9pxagA",
        "colab_type": "code",
        "colab": {}
      },
      "source": [
        "new_cases=confirmed.copy()\n",
        "\n",
        "for day in range(1,len(confirmed)):\n",
        "    new_cases.iloc[day]=confirmed.iloc[day]-confirmed.iloc[day-1]\n",
        "    \n",
        "    growth_rate=confirmed.copy()\n",
        "\n",
        "for day in range(1,len(confirmed)):\n",
        "    growth_rate.iloc[day]=(new_cases.iloc[day]/confirmed.iloc[day-1])*100\n",
        "    \n",
        "active_cases=confirmed.copy()\n",
        "\n",
        "for day in range(0,len(confirmed)):\n",
        "    active_cases.iloc[day]=confirmed.iloc[day]-recovered.iloc[day]\n",
        "    \n",
        "overall_growth_rate=confirmed.copy()\n",
        "\n",
        "for day in range(1,len(confirmed)):\n",
        "    overall_growth_rate.iloc[day]=((active_cases.iloc[day]-active_cases.iloc[day-1])/\n",
        "                                  ( active_cases.iloc[day-1]))*100\n",
        "\n",
        "death_rate=confirmed.copy()\n",
        "\n",
        "conf_rollavg=confirmed.copy()\n",
        "\n",
        "for day in range(0,len(confirmed)):\n",
        "    death_rate.iloc[day]=(death.iloc[day]/confirmed.iloc[day])*100\n",
        "    conf_rollavg.iloc[day]=confirmed.iloc[day]/day\n",
        "    \n",
        "# Visualisation\n",
        "countries=['Italy','Sweden','India','US','France','Spain']\n"
      ],
      "execution_count": null,
      "outputs": []
    },
    {
      "cell_type": "code",
      "metadata": {
        "id": "MlpMGBkJxeyv",
        "colab_type": "code",
        "colab": {}
      },
      "source": [
        "ax=plt.subplot()\n",
        "ax.set_facecolor('black')\n",
        "ax.figure.set_facecolor('#121212')\n",
        "ax.tick_params(axis='x',color='white')\n",
        "ax.tick_params(axis='y',color='white')\n",
        "ax.set_title(r'sumulted growth rate  by {country}')\n",
        "for country in countries:\n",
        "    confirmed[country][40:].plot(figsize=(10,10),label=country)\n",
        "    plt.legend(loc='upper left')\n",
        "    plt.show()    "
      ],
      "execution_count": null,
      "outputs": []
    },
    {
      "cell_type": "code",
      "metadata": {
        "id": "xTpDKMYiyP9A",
        "colab_type": "code",
        "colab": {}
      },
      "source": [
        "for country in countries:\n",
        "    growth_rate[country].plot(figsize=(10,10),label=country)\n",
        "    conf_rollavg[country].plot(figsize=(10,10),label=country)\n",
        "    plt.legend(loc='upper left')\n",
        "    plt.show()"
      ],
      "execution_count": null,
      "outputs": []
    },
    {
      "cell_type": "code",
      "metadata": {
        "id": "GL1raya3yev3",
        "colab_type": "code",
        "colab": {}
      },
      "source": [
        "for country in countries:\n",
        "     death_rate[country].plot.bar()\n",
        "     plt.legend(loc='upper left')\n",
        "     plt.show()"
      ],
      "execution_count": null,
      "outputs": []
    },
    {
      "cell_type": "code",
      "metadata": {
        "id": "WnjEpoAYyrhE",
        "colab_type": "code",
        "colab": {}
      },
      "source": [
        "simulated_growth_rate =.10\n",
        "dates=pd.date_range(start='06/11/2010',periods=40,freq='D')\n",
        "dates=pd.Series(dates)\n",
        "dates=dates.dt.strftime('%m/%d/%Y')\n",
        "simulated=confirmed.copy()\n",
        "simulated=simulated.append(pd.DataFrame(index=dates))\n",
        "\n",
        "for day in range(len(confirmed),len(confirmed)+40):\n",
        "     simulated.iloc[day]=(simulated.iloc[day-1])*(1+simulated_growth_rate)\n",
        "\n",
        "for country in countries:\n",
        "     simulated[country].plot(figsize=(10,10),label=country)\n",
        "     plt.legend(loc='upper left')\n",
        "     plt.show()"
      ],
      "execution_count": null,
      "outputs": []
    }
  ]
}