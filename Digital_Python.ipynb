{
  "nbformat": 4,
  "nbformat_minor": 0,
  "metadata": {
    "colab": {
      "name": "Digital Python.ipynb",
      "private_outputs": true,
      "provenance": [],
      "authorship_tag": "ABX9TyM0w9KU8FkJTvx50momgN3l",
      "include_colab_link": true
    },
    "kernelspec": {
      "name": "python3",
      "display_name": "Python 3"
    },
    "language_info": {
      "name": "python"
    }
  },
  "cells": [
    {
      "cell_type": "markdown",
      "metadata": {
        "id": "view-in-github",
        "colab_type": "text"
      },
      "source": [
        "<a href=\"https://colab.research.google.com/github/anathnath/PythonProject2020/blob/master/Digital_Python.ipynb\" target=\"_parent\"><img src=\"https://colab.research.google.com/assets/colab-badge.svg\" alt=\"Open In Colab\"/></a>"
      ]
    },
    {
      "cell_type": "markdown",
      "metadata": {
        "id": "DAMrevt44BRn"
      },
      "source": [
        "## LINK: https://www.geeksforgeeks.org/logic-gates-in-python/\n",
        "## Link: https://github.com/BinPy/BinPy\n",
        "## Link: https://github.com/qqii/logic-gate-simulator"
      ]
    },
    {
      "cell_type": "markdown",
      "metadata": {
        "id": "RX5iVZOKNHH-"
      },
      "source": [
        "## OR gate:\n",
        "![](https://cdn.journaldev.com/wp-content/uploads/2020/07/or_logic_gates.png.webp)"
      ]
    },
    {
      "cell_type": "code",
      "metadata": {
        "id": "mY1PPCvD2b5n"
      },
      "source": [
        "# Function to simulate OR Gate\n",
        "def OR(A, B):\n",
        "    return A | B    \n",
        " \n",
        "print(\"Output of 0 OR 0 is\", OR(0, 0))\n",
        "print(\"Output of 0 OR 1 is\", OR(0, 1))\n",
        "print(\"Output of 1 OR 0 is\", OR(1, 0))\n",
        "print(\"Output of 1 OR 1 is\", OR(1, 1))  "
      ],
      "execution_count": null,
      "outputs": []
    },
    {
      "cell_type": "markdown",
      "metadata": {
        "id": "B9-XBb8sNT51"
      },
      "source": [
        "## AND Gate\n",
        "\n",
        "![](https://cdn.journaldev.com/wp-content/uploads/2020/07/and_logic_gates.png.webp)"
      ]
    },
    {
      "cell_type": "code",
      "metadata": {
        "id": "UTd1UhtE2jSm"
      },
      "source": [
        "# Function to simulate AND Gate\n",
        "def AND(A, B):\n",
        "    return A & B    \n",
        " \n",
        "print(\"Output of 0 AND 0 is\", AND(0, 0))\n",
        "print(\"Output of 0 AND 1 is\", AND(0, 1))\n",
        "print(\"Output of 1 AND 0 is\", AND(1, 0))\n",
        "print(\"Output of 1 AND 1 is\", AND(1, 1)) "
      ],
      "execution_count": null,
      "outputs": []
    },
    {
      "cell_type": "code",
      "metadata": {
        "id": "-U26b2AGAL-d"
      },
      "source": [
        ""
      ],
      "execution_count": null,
      "outputs": []
    },
    {
      "cell_type": "markdown",
      "metadata": {
        "id": "1tqVumMVNgZ_"
      },
      "source": [
        "## NOT Gate:\n",
        "![](https://cdn.journaldev.com/wp-content/uploads/2020/07/not_logic_gate.png.webp)"
      ]
    },
    {
      "cell_type": "code",
      "metadata": {
        "id": "LDganRaY2qNn"
      },
      "source": [
        "# Function to simulate NOT Gate\n",
        "def NOT(A):\n",
        "    return ~A+2\n",
        " \n",
        "print(\"Output of NOT 0 is\", NOT(0))\n",
        "print(\"Output of NOT 1 is\", NOT(1))"
      ],
      "execution_count": null,
      "outputs": []
    },
    {
      "cell_type": "markdown",
      "metadata": {
        "id": "JdTFED8JNsvT"
      },
      "source": [
        "## NAND Gate\n",
        "![](https://cdn.journaldev.com/wp-content/uploads/2020/07/nand_logic_gate.png.webp)"
      ]
    },
    {
      "cell_type": "code",
      "metadata": {
        "id": "YzxRVTsR2qGR"
      },
      "source": [
        "# Function to simulate NAND Gate\n",
        "def AND(A, B):\n",
        "    return A & B;   \n",
        " \n",
        "# Function to simulate NOT Gate\n",
        "def NOT(A):\n",
        "    return ~A+2\n",
        " \n",
        "# Function to simulate NAND Gate\n",
        "def NAND(A, B):\n",
        "    return NOT(AND(A, B))\n",
        " \n",
        " \n",
        "print(\"Output of 0 NAND 0 is\", NAND(0, 0))\n",
        "print(\"Output of 0 NAND 1 is\", NAND(0, 1))\n",
        "print(\"Output of 1 NAND 0 is\", NAND(1, 0))\n",
        "print(\"Output of 1 NAND 1 is\", NAND(1, 1))  \n"
      ],
      "execution_count": null,
      "outputs": []
    },
    {
      "cell_type": "markdown",
      "metadata": {
        "id": "aNxeDIw0N4z6"
      },
      "source": [
        "## NOR Gate\n",
        "![](https://cdn.journaldev.com/wp-content/uploads/2020/07/nor_logic_gate.png.webp)"
      ]
    },
    {
      "cell_type": "code",
      "metadata": {
        "id": "0oBW6dBm2p-x"
      },
      "source": [
        "# Function to calculate NOR Gate\n",
        "def OR(A, B):\n",
        "    return A | B;   \n",
        " \n",
        "# Function to simulate NOT Gate\n",
        "def NOT(A):\n",
        "    return ~A+2\n",
        " \n",
        "# Function to simulate NOR Gate\n",
        "def NOR(A, B):\n",
        "    return NOT(OR(A, B))\n",
        " \n",
        " \n",
        "print(\"Output of 0 NOR 0 is\", NOR(0, 0))\n",
        "print(\"Output of 0 NOR 1 is\", NOR(0, 1))\n",
        "print(\"Output of 1 NOR 0 is\", NOR(1, 0))\n",
        "print(\"Output of 1 NOR 1 is\", NOR(1, 1)) "
      ],
      "execution_count": null,
      "outputs": []
    },
    {
      "cell_type": "code",
      "metadata": {
        "id": "7SYnjVCkGafW"
      },
      "source": [
        ""
      ],
      "execution_count": null,
      "outputs": []
    },
    {
      "cell_type": "code",
      "metadata": {
        "id": "aXeHZxyN1tmZ"
      },
      "source": [
        "# Python3 program to illustrate\n",
        "# working of NOR gate\n",
        "\n",
        "def NOR(a, b):\n",
        "\tif(a == 0) and (b == 0):\n",
        "\t\treturn 1\n",
        "\telif(a == 0) and (b == 1):\n",
        "\t\treturn 0\n",
        "\telif(a == 1) and (b == 0):\n",
        "\t\treturn 0\n",
        "\telif(a == 1) and (b == 1):\n",
        "\t\treturn 0\n",
        "\n",
        "# Driver code\n",
        "if __name__=='__main__':\n",
        "\tprint(NOR(0, 0))\n",
        "\n",
        "\tprint(\" | NOR Truth Table | Result |\")\n",
        "\tprint(\" A = False, B = False | A NOR B =\",NOR(False,False),\" | \")\n",
        "\tprint(\" A = False, B = True | A NOR B =\",NOR(False,True),\" | \")\n",
        "\tprint(\" A = True, B = False | A NOR B =\",NOR(True,False),\" | \")\n",
        "\tprint(\" A = True, B = True | A NOR B =\",NOR(True,True),\" | \")\n"
      ],
      "execution_count": null,
      "outputs": []
    },
    {
      "cell_type": "markdown",
      "metadata": {
        "id": "zKI6l-xaOLys"
      },
      "source": [
        "## XNOR Gate\n",
        "![](https://cdn.journaldev.com/wp-content/uploads/2020/07/xor_logic_gate.png.webp)"
      ]
    },
    {
      "cell_type": "code",
      "metadata": {
        "id": "c3m82c_u19uU"
      },
      "source": [
        "# Python3 program to illustrate\n",
        "# working of Not gate\n",
        "\n",
        "def XNOR(a,b):\n",
        "\tif(a == b):\n",
        "\t\treturn 1\n",
        "\telse:\n",
        "\t\treturn 0\n",
        "# Driver code\n",
        "if __name__=='__main__':\n",
        "\tprint(XNOR(1,1))\n",
        "\n",
        "\tprint(\" | XNOR Truth Table | Result |\")\n",
        "\tprint(\" A = False, B = False | A XNOR B =\",XNOR(False,False),\" | \")\n",
        "\tprint(\" A = False, B = True | A XNOR B =\",XNOR(False,True),\" | \")\n",
        "\tprint(\" A = True, B = False | A XNOR B =\",XNOR(True,False),\" | \")\n",
        "\tprint(\" A = True, B = True | A XNOR B =\",XNOR(True,True),\" | \")\n"
      ],
      "execution_count": null,
      "outputs": []
    },
    {
      "cell_type": "markdown",
      "metadata": {
        "id": "O2zwh_aGOaRU"
      },
      "source": [
        "## Half Adder\n",
        "![](http://openbookproject.net/courses/python4fun/_images/fig4.gif)"
      ]
    },
    {
      "cell_type": "code",
      "metadata": {
        "id": "H0qutWNA2_1s"
      },
      "source": [
        "# Function to print sum and carry\n",
        "# Half Adder\n",
        "def getResult(A, B):\n",
        "\t\n",
        "\t# Calculating value of sum\n",
        "\tSum = A ^ B\n",
        "\t\n",
        "\t# Calculating value of Carry\n",
        "\tCarry = A & B\n",
        "\t\n",
        "\t# printing the values\n",
        "\tprint(\"Sum \", Sum)\n",
        "\tprint(\"Carry\", Carry)\n",
        "\n",
        "\n",
        "# Driver code\n",
        "A = 0\n",
        "B = 1\n",
        "\n",
        "# passing two inputs of halfadder as arguements to get result function\n",
        "getResult(A, B)\n"
      ],
      "execution_count": null,
      "outputs": []
    },
    {
      "cell_type": "markdown",
      "metadata": {
        "id": "BmPYmu9dOuDn"
      },
      "source": [
        "## Full Adder\n",
        "![](http://openbookproject.net/courses/python4fun/_images/fig5.gif)"
      ]
    },
    {
      "cell_type": "code",
      "metadata": {
        "id": "h7W3x93A2_m8"
      },
      "source": [
        "# To use these functions, you can run python and then import like -\n",
        "# from binary_adder import *\n",
        "#\n",
        "# These methods carry out binary addition via 'digital logic'\n",
        "# This is really what happens at the logic circuit level.\n",
        "# So, this is a pretty abstract use of programming to illustrate\n",
        "# what happens on silicon using code many, many, levels above that!\n",
        "#\n",
        "\n",
        "# A binary half adder -- performing addition only using logic operators,\n",
        "# A half adder simply adds two bits and outputs a sum and carry\n",
        "#\n",
        "def half_adder(a, b):\n",
        "    # ^ is logical xor in python\n",
        "    sum = a ^ b\n",
        "    carry = a and b\n",
        "    return carry,sum\n",
        "\n",
        "# A binary full adder\n",
        "# The full adder can add 3 bits (can handle an incoming carry)\n",
        "# Also returns a sum and carry\n",
        "#\n",
        "def full_adder(carry_in, a, b):\n",
        "    carry1,sum1 = half_adder(carry_in,a)\n",
        "    carry2,sum = half_adder(sum1,b)\n",
        "    carry = carry1 or carry2\n",
        "    return carry,sum\n",
        "\n",
        "# This method virtually chains together binary full adders in order\n",
        "# to add binary numbers of arbitrary size.\n",
        "#\n",
        "# a and b are expected to be strings representing binary integers.\n",
        "# \n",
        "#\n",
        "def binary_adder(a,b):\n",
        "    an = len(a)\n",
        "    bn = len(b)\n",
        "\n",
        "    # Convert strings to list of bits -- very functional syntax here\n",
        "    al = list(int(x,2) for x in list(a))\n",
        "    bl = list(int(x,2) for x in list(b))\n",
        "\n",
        "    # Pad smaller list with 0's\n",
        "    dif = an - bn\n",
        "    # more digits in a than b\n",
        "    if dif > 0:\n",
        "        for i in range(dif):\n",
        "            bl.insert(0,0)\n",
        "    else:\n",
        "        for i in range(abs(dif)):\n",
        "            al.insert(0,0)\n",
        "\n",
        "    print(al)\n",
        "    print(bl)\n",
        "            \n",
        "    result = []\n",
        "    carry = 0\n",
        "    # Iterate through list right to left, calling full_adder each time and\n",
        "    # inserting the sum each time\n",
        "    for i in range(len(al)-1,-1,-1):\n",
        "        carry,sum = full_adder(carry,al[i],bl[i])\n",
        "        result.insert(0,sum)\n",
        "        print(result)\n",
        "    result.insert(0,carry)\n",
        "\n",
        "    return ''.join(str(x) for x in result)\n",
        "\n",
        "def test_binary_adder(a,b):\n",
        "    result = binary_adder(a,b)\n",
        "    #print(result)\n",
        "    if (int(a,2) + int(b,2)) == int(result,2):\n",
        "        print(\"Excellent it Really works\")\n",
        "    else:\n",
        "        print(\"FAIL!!\")\n",
        "    print(str(int(a,2)) + \" + \" + str(int(b,2)) + \" = \" + str(int(result,2)))"
      ],
      "execution_count": null,
      "outputs": []
    },
    {
      "cell_type": "code",
      "metadata": {
        "id": "jcxTMQsYHSY_"
      },
      "source": [
        "test_binary_adder('1011','0110')"
      ],
      "execution_count": null,
      "outputs": []
    },
    {
      "cell_type": "code",
      "metadata": {
        "id": "dXyKuYsfQKQr"
      },
      "source": [
        "# Convert strings to list of bits -- very functional syntax here\n",
        "a=['1001']\n",
        "b=['1100']\n",
        "al = list(int(x,2) for x in list(a))\n",
        "bl = list(int(x,2) for x in list(b))\n",
        "bl"
      ],
      "execution_count": null,
      "outputs": []
    },
    {
      "cell_type": "markdown",
      "metadata": {
        "id": "cDYUTLu76KPV"
      },
      "source": [
        "## Link: https://stackoverflow.com/\n",
        "## Link: https://circuitverse.org/simulator"
      ]
    },
    {
      "cell_type": "code",
      "metadata": {
        "id": "2tnt4I_i5ly0"
      },
      "source": [
        "print(\"Logic Gate Calculator\")\n",
        "\n",
        "\n",
        "def AND(a, b):  # AND Gate\n",
        "    a = int(a)\n",
        "    b = int(b)\n",
        "    if a == 1 and b == 1:  # AND Gate logic\n",
        "        return 1\n",
        "    else:\n",
        "        return 0\n",
        "\n",
        "\n",
        "def NAND(a, b):  # NAND Gate\n",
        "    a = int(a)\n",
        "    b = int(b)\n",
        "    if a == 1 and b == 1:  # NAND Gate logic\n",
        "        return 0\n",
        "    elif a == 1 and b == 0:\n",
        "        return 0\n",
        "    elif a == 0 and b == 1:\n",
        "        return 0\n",
        "    else:\n",
        "        return 1\n",
        "\n",
        "\n",
        "def OR(a, b):  # OR Gate\n",
        "    a = int(a)\n",
        "    b = int(b)\n",
        "    if a == 1:  # OR Gate Logic\n",
        "        return 1\n",
        "    elif b == 1:\n",
        "        return 1\n",
        "    else:\n",
        "        return 0\n",
        "\n",
        "\n",
        "def NOR(a, b):  # NOR Gate\n",
        "    a = int(a)\n",
        "    b = int(b)\n",
        "    if a == 1 and b == 0:  # NOR Gate Logic\n",
        "        return 1\n",
        "    elif a == 0 and b == 1:\n",
        "        return 1\n",
        "    elif a == 0 and b == 0:\n",
        "        return 1\n",
        "    else:\n",
        "        return 0\n",
        "\n",
        "\n",
        "def XOR(a, b):  # XOR Gate\n",
        "    a = int(a)\n",
        "    b = int(b)\n",
        "    if a == 1 and b == 0:  # XOR Gate Logic\n",
        "        return 1\n",
        "    elif a == 1 and b == 1:\n",
        "        return 1\n",
        "    else:\n",
        "        return 0\n",
        "\n",
        "\n",
        "def main():  # The main program\n",
        "    run = True\n",
        "    while run:  # While loop\n",
        "        question = input(\"What type of gate do you want to use OR, AND, NOR, or NAND or (Q)uit\")  # Logic Gate chooser\n",
        "        if question == \"AND\" or question == \"and\" or question == \"And\":  # If the user selects AND\n",
        "            a = input(\"Enter value for input 1 (1 or 0):\")  # Getting the Logic Gate's 1st input\n",
        "            b = input(\"Enter value for input 2 (1 or 0):\")  # Getting the Logic Gate's 2nd input\n",
        "            x = AND(a, b)  # Calling the AND Function\n",
        "            print(\"The output will be:\", x)  # Output result\n",
        "        elif question == \"OR\" or question == \"or\" or question == \"Or\":  # If the user selects OR\n",
        "            a = input(\"Enter value for input 1 (1 or 0):\")  # Getting the Logic Gate's 1st input\n",
        "            b = input(\"Enter value for input 2 (1 or 0):\")  # Getting the Logic Gate's 2nd input\n",
        "            x = OR(a, b)  # Calling the OR Function\n",
        "            print(\"The output will be:\", x)  # Output result\n",
        "        elif question == \"NOR\" or question == \"nor\" or question == \"Nor\":  # If the user selects NOR\n",
        "            a = input(\"Enter value for input 1 (1 or 0):\")  # Getting the Logic Gate's 1st input\n",
        "            b = input(\"Enter value for input 2 (1 or 0):\")  # Getting the Logic Gate's 2nd input\n",
        "            x = NOR(a, b)  # Calling the NOR function\n",
        "            print(\"The output will be:\", x)  # Output result\n",
        "        elif question == \"NAND\" or question == \"nand\" or question == \"Nand\":  # If the user selects NAND\n",
        "            a = input(\"Enter value for input 1 (1 or 0):\")  # Getting the Logic Gate's 1st input\n",
        "            b = input(\"Enter value for input 2 (1 or 0):\")  # Getting the Logic Gate's 2nd input\n",
        "            x = NAND(a, b)  # Calling the NAND function\n",
        "            print(\"The output will be:\", x)  # Output result\n",
        "        elif question == \"XOR\" or question == \"xor\" or question == \"Xor\":  # If the user selects XOR\n",
        "            a = input(\"Enter value for input 1 (1 or 0):\")  # Getting the Logic Gate's 1st input\n",
        "            b = input(\"Enter value for input 2 (1 or 0):\")  # Getting the Logic Gate's 2nd input\n",
        "            x = XOR(a, b)  # Calling the XOR function\n",
        "            print(\"The output will be:\", x)  # Output result\n",
        "        elif question == \"Q\" or question == \"q\":  # Quiting the program\n",
        "            run = False\n",
        "        else:\n",
        "            print(\"Please enter one of the shown logic gates\")  # Error handling\n",
        "\n",
        "\n",
        "main()"
      ],
      "execution_count": null,
      "outputs": []
    },
    {
      "cell_type": "code",
      "metadata": {
        "id": "keyuzJzX0MFC"
      },
      "source": [
        "!pip install schemdraw"
      ],
      "execution_count": null,
      "outputs": []
    },
    {
      "cell_type": "code",
      "metadata": {
        "id": "G7Imr8iq1MTZ"
      },
      "source": [
        "!pip install schemdraw[matplotlib]"
      ],
      "execution_count": null,
      "outputs": []
    },
    {
      "cell_type": "code",
      "metadata": {
        "id": "aDyS-Hx3UO6u"
      },
      "source": [
        "!pip install lcapy"
      ],
      "execution_count": null,
      "outputs": []
    },
    {
      "cell_type": "code",
      "metadata": {
        "id": "trwzN3aLVOe9"
      },
      "source": [
        "from lcapy import Circuit\n",
        " \n",
        "cct = Circuit()\n",
        "cct.add(\"\"\"\n",
        "Vi 1 0_1 step 20; down\n",
        "C 1 2; right, size=1.5\n",
        "R 2 0; down\n",
        "W 0_1 0; right\n",
        "W 0 0_2; right, size=0.5\n",
        "P1 2_2 0_2; down\n",
        "W 2 2_2;right, size=0.5\"\"\")\n",
        " \n",
        "cct.draw()"
      ],
      "execution_count": null,
      "outputs": []
    },
    {
      "cell_type": "code",
      "metadata": {
        "id": "e3ynffCcVaxl"
      },
      "source": [
        "from lcapy import R, C, L\n",
        " \n",
        "cct2= (R(1e6) + L(2e-3)) | C(3e-6)\n",
        "#For some reason, the style= argument is not respected\n",
        "cct2.draw()"
      ],
      "execution_count": null,
      "outputs": []
    },
    {
      "cell_type": "code",
      "metadata": {
        "id": "6zB4Pv1D0FRa"
      },
      "source": [
        "import numpy as np\n",
        "from lcapy import Circuit\n",
        "cct = Circuit()\n",
        "from matplotlib.pyplot import figure, savefig\n",
        "from ipywidgets import interact\n",
        " \n",
        "@interact(R=(1,10,1))\n",
        "def response(R=1):\n",
        "    cct = Circuit()\n",
        " \n",
        "    cct.add('V 0_1 0 step 10;down')\n",
        "    cct.add('L 0_1 0_2 1e-3;right')\n",
        "    cct.add('C 0_2 1 1e-4;right')\n",
        "    cct.add('R 1 0_4 {R};down'.format(R=R))\n",
        "    cct.add('W 0_4 0; left')\n",
        " \n",
        "    t = np.linspace(0, 0.01, 1000)\n",
        "    vr = cct.R.v.evaluate(t)\n",
        " \n",
        "    fig = figure()\n",
        "    #Note that we can add Greek symbols from LaTex into the figure text\n",
        "    ax = fig.add_subplot(111, title='Resistor voltage (R={}$\\Omega$)'.format(R))\n",
        "    ax.plot(t, vr, linewidth=2)\n",
        "    ax.set_xlabel('Time (s)')\n",
        "    ax.set_ylabel('Resistor voltage (V)')\n",
        "    ax.grid(True)\n",
        "     \n",
        "    cct.draw()\n"
      ],
      "execution_count": null,
      "outputs": []
    },
    {
      "cell_type": "code",
      "metadata": {
        "id": "EYIAuluK1isX"
      },
      "source": [
        ""
      ],
      "execution_count": null,
      "outputs": []
    },
    {
      "cell_type": "code",
      "metadata": {
        "id": "wp0KXnf_1jGQ"
      },
      "source": [
        "import numpy as np\n",
        "from lcapy import Circuit\n",
        "cct = Circuit()\n",
        "from matplotlib.pyplot import figure, savefig\n",
        "from ipywidgets import interact\n",
        " \n",
        "@interact(R=(1,10,1))\n",
        "def response(R=1):\n",
        "    cct = Circuit()\n",
        " \n",
        "    cct.add('V 0_1 0 step 10;down')\n",
        "    cct.add('L 0_1 0_2 1e-3;right')\n",
        "    cct.add('C 0_2 1 1e-4;right')\n",
        "    cct.add('R 1 0_4 {R};down'.format(R=R))\n",
        "    cct.add('W 0_4 0; left')\n",
        " \n",
        "    t = np.linspace(0, 0.01, 1000)\n",
        "    vr = cct.R.v.evaluate(t)\n",
        "    vr1=cct.L.v.evaluate(t)\n",
        "    vr2=cct.C.v.evaluate(t)\n",
        " \n",
        "    fig = figure()\n",
        "    #Note that we can add Greek symbols from LaTex into the figure text\n",
        "    ax = fig.add_subplot(111, title='Resistor voltage (R={}$\\Omega$)'.format(R))\n",
        "    ax.plot(t, vr, linewidth=2)\n",
        "    ax.plot(t, vr1, linewidth=2)\n",
        "    ax.plot(t, vr2, linewidth=2)\n",
        "    ax.set_xlabel('Time (s)')\n",
        "    ax.set_ylabel('Resistor voltage (V)')\n",
        "    ax.grid(True)\n",
        "     \n",
        "    cct.draw()\n"
      ],
      "execution_count": null,
      "outputs": []
    },
    {
      "cell_type": "code",
      "metadata": {
        "id": "RjikAJIQASQP"
      },
      "source": [
        "from lcapy import Circuit\n",
        "cct = Circuit()\n",
        "cct.add(\"\"\"\n",
        "Vi 1 0_1 step 20; down\n",
        "C 1 2; right, size=1.5\n",
        "R 2 0; down\n",
        "W 0_1 0; right\n",
        "W 0 0_2; right, size=0.5\n",
        "P1 2_2 0_2; down\n",
        "W 2 2_2;right, size=0.5\"\"\")\n",
        "cct.draw()"
      ],
      "execution_count": null,
      "outputs": []
    },
    {
      "cell_type": "code",
      "metadata": {
        "id": "01m9YsFCBqP2"
      },
      "source": [
        "#Create a file containing a circuit netlist\n",
        "sch='''\n",
        "Vi 1 0_1 {sin(t)}; down\n",
        "R1 1 2 22e3; right, size=1.5\n",
        "R2 2 0 1e3; down\n",
        "P1 2_2 0_2; down, v=V_{o}\n",
        "W 2 2_2; right, size=1.5\n",
        "W 0_1 0; right\n",
        "W 0 0_2; right\n",
        "'''\n",
        " \n",
        "fn=\"voltageDivider.sch\"\n",
        "with open(fn, \"w\") as text_file:\n",
        "    text_file.write(sch)\n",
        " \n",
        "#Create a circuit from a netlist file\n",
        "cct = Circuit(fn)\n",
        "cct.draw()"
      ],
      "execution_count": null,
      "outputs": []
    },
    {
      "cell_type": "code",
      "metadata": {
        "id": "V4BCiaT7VOw9"
      },
      "source": [
        "!pip install SchemDraw"
      ],
      "execution_count": null,
      "outputs": []
    }
  ]
}